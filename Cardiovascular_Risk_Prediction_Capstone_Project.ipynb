{
  "nbformat": 4,
  "nbformat_minor": 0,
  "metadata": {
    "colab": {
      "name": "Cardiovascular Risk Prediction - Capstone Project.ipynb",
      "provenance": [],
      "collapsed_sections": [],
      "mount_file_id": "1l-xP_Ig1A-fOmG4J0r_8aXJFUoROgiEs",
      "authorship_tag": "ABX9TyM2gnocW0rLw6ichheQ3Xgk",
      "include_colab_link": true
    },
    "kernelspec": {
      "name": "python3",
      "display_name": "Python 3"
    },
    "language_info": {
      "name": "python"
    }
  },
  "cells": [
    {
      "cell_type": "markdown",
      "metadata": {
        "id": "view-in-github",
        "colab_type": "text"
      },
      "source": [
        "<a href=\"https://colab.research.google.com/github/Swapnil-417/Cardiovascular-Risk-Prediction/blob/main/Cardiovascular_Risk_Prediction_Capstone_Project.ipynb\" target=\"_parent\"><img src=\"https://colab.research.google.com/assets/colab-badge.svg\" alt=\"Open In Colab\"/></a>"
      ]
    },
    {
      "cell_type": "markdown",
      "source": [
        "# <b><u> Project Title : Predicting whether the patient has a 10-year risk of future coronary heart disease (CHD) </u></b>"
      ],
      "metadata": {
        "id": "DcOZX1VDGiJD"
      }
    },
    {
      "cell_type": "markdown",
      "source": [
        "# **Problem Description**\n",
        "\n",
        "### The dataset is from an ongoing cardiovascular study on residents of the town of Framingham, Massachusetts. The classification goal is to predict whether the patient has a 10-year risk of future coronary heart disease (CHD). The dataset provides the patient’s information. It includes over 4,000 records and 15 attributes. Each attribute is a potential risk factor. There are both demographic, behavioral, and medical risk factors."
      ],
      "metadata": {
        "id": "8iDOyPzJG_ws"
      }
    },
    {
      "cell_type": "markdown",
      "source": [
        "# **Data Description**\n",
        "\n",
        "**Demographic:**\n",
        "* **Sex**: male or female(\"M\" or \"F\")\n",
        "* **Age**: Age of the patient;(Continuous - Although the recorded ages have been truncated to whole numbers, the concept of age is continuous)\n",
        "\n",
        "**Behavioral**\n",
        "* **is_smoking**: whether or not the patient is a current smoker (\"YES\" or \"NO\")\n",
        "* **CigsPerDay**: the number of cigarettes that the person smoked on average in one day.(can be considered continuous as one can have any number of cigarettes, even half a cigarette.)\n",
        "\n",
        "**Medical(history)**\n",
        "* **BPMeds**: whether or not the patient was on blood pressure medication (Nominal)\n",
        "* **PrevalentStroke**: whether or not the patient had previously had a stroke (Nominal)\n",
        "* **PrevalentHyp**: whether or not the patient was hypertensive (Nominal)\n",
        "* **Diabetes**: whether or not the patient had diabetes (Nominal)\n",
        "\n",
        "**Medical(current)**\n",
        "* **TotChol**: total cholesterol level (Continuous)\n",
        "* **SysBP**: systolic blood pressure (Continuous)\n",
        "* **DiaBP**: diastolic blood pressure (Continuous)\n",
        "* **BMI**: Body Mass Index (Continuous)\n",
        "* **HeartRate**: heart rate (Continuous - In medical research, variables such as heart rate though in fact discrete, yet are considered continuous because of large number of possible values.)\n",
        "* **Glucose**: glucose level (Continuous)\n",
        "\n",
        "**Predict variable (desired target)**\n",
        "* **TenYearCHD**: 10-year risk of coronary heart disease CHD(binary: “1”, means “Yes”, “0” means “No”)"
      ],
      "metadata": {
        "id": "yadyL4gTLIiM"
      }
    },
    {
      "cell_type": "code",
      "source": [
        "# importing required libraries\n",
        "import numpy as np\n",
        "import pandas as pd\n",
        "import matplotlib.pyplot as plt\n",
        "import seaborn as sns\n",
        "%matplotlib inline\n",
        "\n",
        "from sklearn.model_selection import train_test_split\n",
        "from sklearn.model_selection import GridSearchCV\n",
        "\n",
        "# Data Modeling\n",
        "from sklearn.linear_model import LogisticRegression\n",
        "from sklearn.neighbors import KNeighborsClassifier\n",
        "from sklearn.svm import SVC\n",
        "from sklearn.tree import DecisionTreeClassifier\n",
        "from sklearn.ensemble import RandomForestClassifier\n",
        "from sklearn.ensemble import GradientBoostingClassifier\n",
        "\n",
        "# Evaluation metrics\n",
        "from sklearn.metrics import accuracy_score, recall_score, precision_score, f1_score\n",
        "from sklearn.metrics import auc, roc_curve, confusion_matrix, plot_confusion_matrix"
      ],
      "metadata": {
        "id": "MpPU9mCwAbPD"
      },
      "execution_count": 470,
      "outputs": []
    },
    {
      "cell_type": "code",
      "source": [
        "import warnings\n",
        "warnings.filterwarnings('ignore')"
      ],
      "metadata": {
        "id": "sILwDMLV-BRX"
      },
      "execution_count": 471,
      "outputs": []
    },
    {
      "cell_type": "code",
      "execution_count": 472,
      "metadata": {
        "id": "uqwRiwkFGJwp"
      },
      "outputs": [],
      "source": [
        "# importing data\n",
        "dir_path= \"/content/drive/MyDrive/Capstone Projects/Cardiovascular Risk Prediction - Swapnil Patil/data/\"\n",
        "data= pd.read_csv(dir_path + \"data_cardiovascular_risk.csv\")"
      ]
    },
    {
      "cell_type": "markdown",
      "source": [
        "# **Data Exploration**"
      ],
      "metadata": {
        "id": "726sedOtYtZG"
      }
    },
    {
      "cell_type": "code",
      "source": [
        "# first look\n",
        "data.head()"
      ],
      "metadata": {
        "colab": {
          "base_uri": "https://localhost:8080/",
          "height": 206
        },
        "id": "TvdOE7YGA3Us",
        "outputId": "c7543855-21fd-433a-c651-ea0f2d2f795b"
      },
      "execution_count": 473,
      "outputs": [
        {
          "output_type": "execute_result",
          "data": {
            "text/html": [
              "\n",
              "  <div id=\"df-7bbd3628-a7d8-4572-8cd3-1c7207ed81ad\">\n",
              "    <div class=\"colab-df-container\">\n",
              "      <div>\n",
              "<style scoped>\n",
              "    .dataframe tbody tr th:only-of-type {\n",
              "        vertical-align: middle;\n",
              "    }\n",
              "\n",
              "    .dataframe tbody tr th {\n",
              "        vertical-align: top;\n",
              "    }\n",
              "\n",
              "    .dataframe thead th {\n",
              "        text-align: right;\n",
              "    }\n",
              "</style>\n",
              "<table border=\"1\" class=\"dataframe\">\n",
              "  <thead>\n",
              "    <tr style=\"text-align: right;\">\n",
              "      <th></th>\n",
              "      <th>id</th>\n",
              "      <th>age</th>\n",
              "      <th>education</th>\n",
              "      <th>sex</th>\n",
              "      <th>is_smoking</th>\n",
              "      <th>cigsPerDay</th>\n",
              "      <th>BPMeds</th>\n",
              "      <th>prevalentStroke</th>\n",
              "      <th>prevalentHyp</th>\n",
              "      <th>diabetes</th>\n",
              "      <th>totChol</th>\n",
              "      <th>sysBP</th>\n",
              "      <th>diaBP</th>\n",
              "      <th>BMI</th>\n",
              "      <th>heartRate</th>\n",
              "      <th>glucose</th>\n",
              "      <th>TenYearCHD</th>\n",
              "    </tr>\n",
              "  </thead>\n",
              "  <tbody>\n",
              "    <tr>\n",
              "      <th>0</th>\n",
              "      <td>0</td>\n",
              "      <td>64</td>\n",
              "      <td>2.0</td>\n",
              "      <td>F</td>\n",
              "      <td>YES</td>\n",
              "      <td>3.0</td>\n",
              "      <td>0.0</td>\n",
              "      <td>0</td>\n",
              "      <td>0</td>\n",
              "      <td>0</td>\n",
              "      <td>221.0</td>\n",
              "      <td>148.0</td>\n",
              "      <td>85.0</td>\n",
              "      <td>NaN</td>\n",
              "      <td>90.0</td>\n",
              "      <td>80.0</td>\n",
              "      <td>1</td>\n",
              "    </tr>\n",
              "    <tr>\n",
              "      <th>1</th>\n",
              "      <td>1</td>\n",
              "      <td>36</td>\n",
              "      <td>4.0</td>\n",
              "      <td>M</td>\n",
              "      <td>NO</td>\n",
              "      <td>0.0</td>\n",
              "      <td>0.0</td>\n",
              "      <td>0</td>\n",
              "      <td>1</td>\n",
              "      <td>0</td>\n",
              "      <td>212.0</td>\n",
              "      <td>168.0</td>\n",
              "      <td>98.0</td>\n",
              "      <td>29.77</td>\n",
              "      <td>72.0</td>\n",
              "      <td>75.0</td>\n",
              "      <td>0</td>\n",
              "    </tr>\n",
              "    <tr>\n",
              "      <th>2</th>\n",
              "      <td>2</td>\n",
              "      <td>46</td>\n",
              "      <td>1.0</td>\n",
              "      <td>F</td>\n",
              "      <td>YES</td>\n",
              "      <td>10.0</td>\n",
              "      <td>0.0</td>\n",
              "      <td>0</td>\n",
              "      <td>0</td>\n",
              "      <td>0</td>\n",
              "      <td>250.0</td>\n",
              "      <td>116.0</td>\n",
              "      <td>71.0</td>\n",
              "      <td>20.35</td>\n",
              "      <td>88.0</td>\n",
              "      <td>94.0</td>\n",
              "      <td>0</td>\n",
              "    </tr>\n",
              "    <tr>\n",
              "      <th>3</th>\n",
              "      <td>3</td>\n",
              "      <td>50</td>\n",
              "      <td>1.0</td>\n",
              "      <td>M</td>\n",
              "      <td>YES</td>\n",
              "      <td>20.0</td>\n",
              "      <td>0.0</td>\n",
              "      <td>0</td>\n",
              "      <td>1</td>\n",
              "      <td>0</td>\n",
              "      <td>233.0</td>\n",
              "      <td>158.0</td>\n",
              "      <td>88.0</td>\n",
              "      <td>28.26</td>\n",
              "      <td>68.0</td>\n",
              "      <td>94.0</td>\n",
              "      <td>1</td>\n",
              "    </tr>\n",
              "    <tr>\n",
              "      <th>4</th>\n",
              "      <td>4</td>\n",
              "      <td>64</td>\n",
              "      <td>1.0</td>\n",
              "      <td>F</td>\n",
              "      <td>YES</td>\n",
              "      <td>30.0</td>\n",
              "      <td>0.0</td>\n",
              "      <td>0</td>\n",
              "      <td>0</td>\n",
              "      <td>0</td>\n",
              "      <td>241.0</td>\n",
              "      <td>136.5</td>\n",
              "      <td>85.0</td>\n",
              "      <td>26.42</td>\n",
              "      <td>70.0</td>\n",
              "      <td>77.0</td>\n",
              "      <td>0</td>\n",
              "    </tr>\n",
              "  </tbody>\n",
              "</table>\n",
              "</div>\n",
              "      <button class=\"colab-df-convert\" onclick=\"convertToInteractive('df-7bbd3628-a7d8-4572-8cd3-1c7207ed81ad')\"\n",
              "              title=\"Convert this dataframe to an interactive table.\"\n",
              "              style=\"display:none;\">\n",
              "        \n",
              "  <svg xmlns=\"http://www.w3.org/2000/svg\" height=\"24px\"viewBox=\"0 0 24 24\"\n",
              "       width=\"24px\">\n",
              "    <path d=\"M0 0h24v24H0V0z\" fill=\"none\"/>\n",
              "    <path d=\"M18.56 5.44l.94 2.06.94-2.06 2.06-.94-2.06-.94-.94-2.06-.94 2.06-2.06.94zm-11 1L8.5 8.5l.94-2.06 2.06-.94-2.06-.94L8.5 2.5l-.94 2.06-2.06.94zm10 10l.94 2.06.94-2.06 2.06-.94-2.06-.94-.94-2.06-.94 2.06-2.06.94z\"/><path d=\"M17.41 7.96l-1.37-1.37c-.4-.4-.92-.59-1.43-.59-.52 0-1.04.2-1.43.59L10.3 9.45l-7.72 7.72c-.78.78-.78 2.05 0 2.83L4 21.41c.39.39.9.59 1.41.59.51 0 1.02-.2 1.41-.59l7.78-7.78 2.81-2.81c.8-.78.8-2.07 0-2.86zM5.41 20L4 18.59l7.72-7.72 1.47 1.35L5.41 20z\"/>\n",
              "  </svg>\n",
              "      </button>\n",
              "      \n",
              "  <style>\n",
              "    .colab-df-container {\n",
              "      display:flex;\n",
              "      flex-wrap:wrap;\n",
              "      gap: 12px;\n",
              "    }\n",
              "\n",
              "    .colab-df-convert {\n",
              "      background-color: #E8F0FE;\n",
              "      border: none;\n",
              "      border-radius: 50%;\n",
              "      cursor: pointer;\n",
              "      display: none;\n",
              "      fill: #1967D2;\n",
              "      height: 32px;\n",
              "      padding: 0 0 0 0;\n",
              "      width: 32px;\n",
              "    }\n",
              "\n",
              "    .colab-df-convert:hover {\n",
              "      background-color: #E2EBFA;\n",
              "      box-shadow: 0px 1px 2px rgba(60, 64, 67, 0.3), 0px 1px 3px 1px rgba(60, 64, 67, 0.15);\n",
              "      fill: #174EA6;\n",
              "    }\n",
              "\n",
              "    [theme=dark] .colab-df-convert {\n",
              "      background-color: #3B4455;\n",
              "      fill: #D2E3FC;\n",
              "    }\n",
              "\n",
              "    [theme=dark] .colab-df-convert:hover {\n",
              "      background-color: #434B5C;\n",
              "      box-shadow: 0px 1px 3px 1px rgba(0, 0, 0, 0.15);\n",
              "      filter: drop-shadow(0px 1px 2px rgba(0, 0, 0, 0.3));\n",
              "      fill: #FFFFFF;\n",
              "    }\n",
              "  </style>\n",
              "\n",
              "      <script>\n",
              "        const buttonEl =\n",
              "          document.querySelector('#df-7bbd3628-a7d8-4572-8cd3-1c7207ed81ad button.colab-df-convert');\n",
              "        buttonEl.style.display =\n",
              "          google.colab.kernel.accessAllowed ? 'block' : 'none';\n",
              "\n",
              "        async function convertToInteractive(key) {\n",
              "          const element = document.querySelector('#df-7bbd3628-a7d8-4572-8cd3-1c7207ed81ad');\n",
              "          const dataTable =\n",
              "            await google.colab.kernel.invokeFunction('convertToInteractive',\n",
              "                                                     [key], {});\n",
              "          if (!dataTable) return;\n",
              "\n",
              "          const docLinkHtml = 'Like what you see? Visit the ' +\n",
              "            '<a target=\"_blank\" href=https://colab.research.google.com/notebooks/data_table.ipynb>data table notebook</a>'\n",
              "            + ' to learn more about interactive tables.';\n",
              "          element.innerHTML = '';\n",
              "          dataTable['output_type'] = 'display_data';\n",
              "          await google.colab.output.renderOutput(dataTable, element);\n",
              "          const docLink = document.createElement('div');\n",
              "          docLink.innerHTML = docLinkHtml;\n",
              "          element.appendChild(docLink);\n",
              "        }\n",
              "      </script>\n",
              "    </div>\n",
              "  </div>\n",
              "  "
            ],
            "text/plain": [
              "   id  age  education sex  ...    BMI  heartRate  glucose  TenYearCHD\n",
              "0   0   64        2.0   F  ...    NaN       90.0     80.0           1\n",
              "1   1   36        4.0   M  ...  29.77       72.0     75.0           0\n",
              "2   2   46        1.0   F  ...  20.35       88.0     94.0           0\n",
              "3   3   50        1.0   M  ...  28.26       68.0     94.0           1\n",
              "4   4   64        1.0   F  ...  26.42       70.0     77.0           0\n",
              "\n",
              "[5 rows x 17 columns]"
            ]
          },
          "metadata": {},
          "execution_count": 473
        }
      ]
    },
    {
      "cell_type": "code",
      "source": [
        "data .tail()"
      ],
      "metadata": {
        "colab": {
          "base_uri": "https://localhost:8080/",
          "height": 206
        },
        "id": "GGdEm4rWA5cE",
        "outputId": "fe6e6fdf-f60d-4faa-b9f6-824b23647f08"
      },
      "execution_count": 474,
      "outputs": [
        {
          "output_type": "execute_result",
          "data": {
            "text/html": [
              "\n",
              "  <div id=\"df-46ebdabe-f9fe-496f-82ce-6b8ee6b0d044\">\n",
              "    <div class=\"colab-df-container\">\n",
              "      <div>\n",
              "<style scoped>\n",
              "    .dataframe tbody tr th:only-of-type {\n",
              "        vertical-align: middle;\n",
              "    }\n",
              "\n",
              "    .dataframe tbody tr th {\n",
              "        vertical-align: top;\n",
              "    }\n",
              "\n",
              "    .dataframe thead th {\n",
              "        text-align: right;\n",
              "    }\n",
              "</style>\n",
              "<table border=\"1\" class=\"dataframe\">\n",
              "  <thead>\n",
              "    <tr style=\"text-align: right;\">\n",
              "      <th></th>\n",
              "      <th>id</th>\n",
              "      <th>age</th>\n",
              "      <th>education</th>\n",
              "      <th>sex</th>\n",
              "      <th>is_smoking</th>\n",
              "      <th>cigsPerDay</th>\n",
              "      <th>BPMeds</th>\n",
              "      <th>prevalentStroke</th>\n",
              "      <th>prevalentHyp</th>\n",
              "      <th>diabetes</th>\n",
              "      <th>totChol</th>\n",
              "      <th>sysBP</th>\n",
              "      <th>diaBP</th>\n",
              "      <th>BMI</th>\n",
              "      <th>heartRate</th>\n",
              "      <th>glucose</th>\n",
              "      <th>TenYearCHD</th>\n",
              "    </tr>\n",
              "  </thead>\n",
              "  <tbody>\n",
              "    <tr>\n",
              "      <th>3385</th>\n",
              "      <td>3385</td>\n",
              "      <td>60</td>\n",
              "      <td>1.0</td>\n",
              "      <td>F</td>\n",
              "      <td>NO</td>\n",
              "      <td>0.0</td>\n",
              "      <td>0.0</td>\n",
              "      <td>0</td>\n",
              "      <td>0</td>\n",
              "      <td>0</td>\n",
              "      <td>261.0</td>\n",
              "      <td>123.5</td>\n",
              "      <td>79.0</td>\n",
              "      <td>29.28</td>\n",
              "      <td>70.0</td>\n",
              "      <td>103.0</td>\n",
              "      <td>0</td>\n",
              "    </tr>\n",
              "    <tr>\n",
              "      <th>3386</th>\n",
              "      <td>3386</td>\n",
              "      <td>46</td>\n",
              "      <td>1.0</td>\n",
              "      <td>F</td>\n",
              "      <td>NO</td>\n",
              "      <td>0.0</td>\n",
              "      <td>0.0</td>\n",
              "      <td>0</td>\n",
              "      <td>0</td>\n",
              "      <td>0</td>\n",
              "      <td>199.0</td>\n",
              "      <td>102.0</td>\n",
              "      <td>56.0</td>\n",
              "      <td>21.96</td>\n",
              "      <td>80.0</td>\n",
              "      <td>84.0</td>\n",
              "      <td>0</td>\n",
              "    </tr>\n",
              "    <tr>\n",
              "      <th>3387</th>\n",
              "      <td>3387</td>\n",
              "      <td>44</td>\n",
              "      <td>3.0</td>\n",
              "      <td>M</td>\n",
              "      <td>YES</td>\n",
              "      <td>3.0</td>\n",
              "      <td>0.0</td>\n",
              "      <td>0</td>\n",
              "      <td>1</td>\n",
              "      <td>0</td>\n",
              "      <td>352.0</td>\n",
              "      <td>164.0</td>\n",
              "      <td>119.0</td>\n",
              "      <td>28.92</td>\n",
              "      <td>73.0</td>\n",
              "      <td>72.0</td>\n",
              "      <td>1</td>\n",
              "    </tr>\n",
              "    <tr>\n",
              "      <th>3388</th>\n",
              "      <td>3388</td>\n",
              "      <td>60</td>\n",
              "      <td>1.0</td>\n",
              "      <td>M</td>\n",
              "      <td>NO</td>\n",
              "      <td>0.0</td>\n",
              "      <td>NaN</td>\n",
              "      <td>0</td>\n",
              "      <td>1</td>\n",
              "      <td>0</td>\n",
              "      <td>191.0</td>\n",
              "      <td>167.0</td>\n",
              "      <td>105.0</td>\n",
              "      <td>23.01</td>\n",
              "      <td>80.0</td>\n",
              "      <td>85.0</td>\n",
              "      <td>0</td>\n",
              "    </tr>\n",
              "    <tr>\n",
              "      <th>3389</th>\n",
              "      <td>3389</td>\n",
              "      <td>54</td>\n",
              "      <td>3.0</td>\n",
              "      <td>F</td>\n",
              "      <td>NO</td>\n",
              "      <td>0.0</td>\n",
              "      <td>0.0</td>\n",
              "      <td>0</td>\n",
              "      <td>0</td>\n",
              "      <td>0</td>\n",
              "      <td>288.0</td>\n",
              "      <td>124.0</td>\n",
              "      <td>77.0</td>\n",
              "      <td>29.88</td>\n",
              "      <td>79.0</td>\n",
              "      <td>92.0</td>\n",
              "      <td>0</td>\n",
              "    </tr>\n",
              "  </tbody>\n",
              "</table>\n",
              "</div>\n",
              "      <button class=\"colab-df-convert\" onclick=\"convertToInteractive('df-46ebdabe-f9fe-496f-82ce-6b8ee6b0d044')\"\n",
              "              title=\"Convert this dataframe to an interactive table.\"\n",
              "              style=\"display:none;\">\n",
              "        \n",
              "  <svg xmlns=\"http://www.w3.org/2000/svg\" height=\"24px\"viewBox=\"0 0 24 24\"\n",
              "       width=\"24px\">\n",
              "    <path d=\"M0 0h24v24H0V0z\" fill=\"none\"/>\n",
              "    <path d=\"M18.56 5.44l.94 2.06.94-2.06 2.06-.94-2.06-.94-.94-2.06-.94 2.06-2.06.94zm-11 1L8.5 8.5l.94-2.06 2.06-.94-2.06-.94L8.5 2.5l-.94 2.06-2.06.94zm10 10l.94 2.06.94-2.06 2.06-.94-2.06-.94-.94-2.06-.94 2.06-2.06.94z\"/><path d=\"M17.41 7.96l-1.37-1.37c-.4-.4-.92-.59-1.43-.59-.52 0-1.04.2-1.43.59L10.3 9.45l-7.72 7.72c-.78.78-.78 2.05 0 2.83L4 21.41c.39.39.9.59 1.41.59.51 0 1.02-.2 1.41-.59l7.78-7.78 2.81-2.81c.8-.78.8-2.07 0-2.86zM5.41 20L4 18.59l7.72-7.72 1.47 1.35L5.41 20z\"/>\n",
              "  </svg>\n",
              "      </button>\n",
              "      \n",
              "  <style>\n",
              "    .colab-df-container {\n",
              "      display:flex;\n",
              "      flex-wrap:wrap;\n",
              "      gap: 12px;\n",
              "    }\n",
              "\n",
              "    .colab-df-convert {\n",
              "      background-color: #E8F0FE;\n",
              "      border: none;\n",
              "      border-radius: 50%;\n",
              "      cursor: pointer;\n",
              "      display: none;\n",
              "      fill: #1967D2;\n",
              "      height: 32px;\n",
              "      padding: 0 0 0 0;\n",
              "      width: 32px;\n",
              "    }\n",
              "\n",
              "    .colab-df-convert:hover {\n",
              "      background-color: #E2EBFA;\n",
              "      box-shadow: 0px 1px 2px rgba(60, 64, 67, 0.3), 0px 1px 3px 1px rgba(60, 64, 67, 0.15);\n",
              "      fill: #174EA6;\n",
              "    }\n",
              "\n",
              "    [theme=dark] .colab-df-convert {\n",
              "      background-color: #3B4455;\n",
              "      fill: #D2E3FC;\n",
              "    }\n",
              "\n",
              "    [theme=dark] .colab-df-convert:hover {\n",
              "      background-color: #434B5C;\n",
              "      box-shadow: 0px 1px 3px 1px rgba(0, 0, 0, 0.15);\n",
              "      filter: drop-shadow(0px 1px 2px rgba(0, 0, 0, 0.3));\n",
              "      fill: #FFFFFF;\n",
              "    }\n",
              "  </style>\n",
              "\n",
              "      <script>\n",
              "        const buttonEl =\n",
              "          document.querySelector('#df-46ebdabe-f9fe-496f-82ce-6b8ee6b0d044 button.colab-df-convert');\n",
              "        buttonEl.style.display =\n",
              "          google.colab.kernel.accessAllowed ? 'block' : 'none';\n",
              "\n",
              "        async function convertToInteractive(key) {\n",
              "          const element = document.querySelector('#df-46ebdabe-f9fe-496f-82ce-6b8ee6b0d044');\n",
              "          const dataTable =\n",
              "            await google.colab.kernel.invokeFunction('convertToInteractive',\n",
              "                                                     [key], {});\n",
              "          if (!dataTable) return;\n",
              "\n",
              "          const docLinkHtml = 'Like what you see? Visit the ' +\n",
              "            '<a target=\"_blank\" href=https://colab.research.google.com/notebooks/data_table.ipynb>data table notebook</a>'\n",
              "            + ' to learn more about interactive tables.';\n",
              "          element.innerHTML = '';\n",
              "          dataTable['output_type'] = 'display_data';\n",
              "          await google.colab.output.renderOutput(dataTable, element);\n",
              "          const docLink = document.createElement('div');\n",
              "          docLink.innerHTML = docLinkHtml;\n",
              "          element.appendChild(docLink);\n",
              "        }\n",
              "      </script>\n",
              "    </div>\n",
              "  </div>\n",
              "  "
            ],
            "text/plain": [
              "        id  age  education sex  ...    BMI  heartRate  glucose  TenYearCHD\n",
              "3385  3385   60        1.0   F  ...  29.28       70.0    103.0           0\n",
              "3386  3386   46        1.0   F  ...  21.96       80.0     84.0           0\n",
              "3387  3387   44        3.0   M  ...  28.92       73.0     72.0           1\n",
              "3388  3388   60        1.0   M  ...  23.01       80.0     85.0           0\n",
              "3389  3389   54        3.0   F  ...  29.88       79.0     92.0           0\n",
              "\n",
              "[5 rows x 17 columns]"
            ]
          },
          "metadata": {},
          "execution_count": 474
        }
      ]
    },
    {
      "cell_type": "code",
      "source": [
        "# checking dimensions\n",
        "data.shape"
      ],
      "metadata": {
        "colab": {
          "base_uri": "https://localhost:8080/"
        },
        "id": "5aYpZIEe12b4",
        "outputId": "ddea7712-3e50-4f3a-e07f-8ea8ea22d431"
      },
      "execution_count": 475,
      "outputs": [
        {
          "output_type": "execute_result",
          "data": {
            "text/plain": [
              "(3390, 17)"
            ]
          },
          "metadata": {},
          "execution_count": 475
        }
      ]
    },
    {
      "cell_type": "code",
      "source": [
        "# checking columns\n",
        "data.columns"
      ],
      "metadata": {
        "colab": {
          "base_uri": "https://localhost:8080/"
        },
        "id": "XOJKHlMT1t5m",
        "outputId": "e73429ab-4c0b-48e9-feea-1124ed944042"
      },
      "execution_count": 476,
      "outputs": [
        {
          "output_type": "execute_result",
          "data": {
            "text/plain": [
              "Index(['id', 'age', 'education', 'sex', 'is_smoking', 'cigsPerDay', 'BPMeds',\n",
              "       'prevalentStroke', 'prevalentHyp', 'diabetes', 'totChol', 'sysBP',\n",
              "       'diaBP', 'BMI', 'heartRate', 'glucose', 'TenYearCHD'],\n",
              "      dtype='object')"
            ]
          },
          "metadata": {},
          "execution_count": 476
        }
      ]
    },
    {
      "cell_type": "code",
      "source": [
        "# basic info\n",
        "data.info()"
      ],
      "metadata": {
        "colab": {
          "base_uri": "https://localhost:8080/"
        },
        "id": "p2-zJgzv2qvY",
        "outputId": "6cb90821-f06f-4bf0-9f10-f76f95a70599"
      },
      "execution_count": 477,
      "outputs": [
        {
          "output_type": "stream",
          "name": "stdout",
          "text": [
            "<class 'pandas.core.frame.DataFrame'>\n",
            "RangeIndex: 3390 entries, 0 to 3389\n",
            "Data columns (total 17 columns):\n",
            " #   Column           Non-Null Count  Dtype  \n",
            "---  ------           --------------  -----  \n",
            " 0   id               3390 non-null   int64  \n",
            " 1   age              3390 non-null   int64  \n",
            " 2   education        3303 non-null   float64\n",
            " 3   sex              3390 non-null   object \n",
            " 4   is_smoking       3390 non-null   object \n",
            " 5   cigsPerDay       3368 non-null   float64\n",
            " 6   BPMeds           3346 non-null   float64\n",
            " 7   prevalentStroke  3390 non-null   int64  \n",
            " 8   prevalentHyp     3390 non-null   int64  \n",
            " 9   diabetes         3390 non-null   int64  \n",
            " 10  totChol          3352 non-null   float64\n",
            " 11  sysBP            3390 non-null   float64\n",
            " 12  diaBP            3390 non-null   float64\n",
            " 13  BMI              3376 non-null   float64\n",
            " 14  heartRate        3389 non-null   float64\n",
            " 15  glucose          3086 non-null   float64\n",
            " 16  TenYearCHD       3390 non-null   int64  \n",
            "dtypes: float64(9), int64(6), object(2)\n",
            "memory usage: 450.4+ KB\n"
          ]
        }
      ]
    },
    {
      "cell_type": "markdown",
      "source": [
        "# **Data Preprocessing**\n"
      ],
      "metadata": {
        "id": "xsxvnC4LYho8"
      }
    },
    {
      "cell_type": "code",
      "source": [
        "# checking for duplicate values\n",
        "data.duplicated().sum()"
      ],
      "metadata": {
        "colab": {
          "base_uri": "https://localhost:8080/"
        },
        "id": "nnulat_TDS3Z",
        "outputId": "ede67c94-30e7-4771-9177-c9f05c136c4b"
      },
      "execution_count": 478,
      "outputs": [
        {
          "output_type": "execute_result",
          "data": {
            "text/plain": [
              "0"
            ]
          },
          "metadata": {},
          "execution_count": 478
        }
      ]
    },
    {
      "cell_type": "code",
      "source": [
        "# checking the columns with missing values\n",
        "columns_with_missing_values = data.columns[data.isnull().any()]\n",
        "data[columns_with_missing_values].isnull().sum()"
      ],
      "metadata": {
        "colab": {
          "base_uri": "https://localhost:8080/"
        },
        "id": "2i5enbibElNN",
        "outputId": "c4bc7dd0-646f-4dbd-a388-bf053b8c3552"
      },
      "execution_count": 479,
      "outputs": [
        {
          "output_type": "execute_result",
          "data": {
            "text/plain": [
              "education      87\n",
              "cigsPerDay     22\n",
              "BPMeds         44\n",
              "totChol        38\n",
              "BMI            14\n",
              "heartRate       1\n",
              "glucose       304\n",
              "dtype: int64"
            ]
          },
          "metadata": {},
          "execution_count": 479
        }
      ]
    },
    {
      "cell_type": "code",
      "source": [
        "data[data['glucose'].isnull()].head()"
      ],
      "metadata": {
        "colab": {
          "base_uri": "https://localhost:8080/",
          "height": 206
        },
        "id": "cYSGtdfZ77D_",
        "outputId": "29deebf2-7212-4ce8-df08-66cd28b4937b"
      },
      "execution_count": 480,
      "outputs": [
        {
          "output_type": "execute_result",
          "data": {
            "text/html": [
              "\n",
              "  <div id=\"df-a0990fff-fb54-48b4-8f68-d11897604e84\">\n",
              "    <div class=\"colab-df-container\">\n",
              "      <div>\n",
              "<style scoped>\n",
              "    .dataframe tbody tr th:only-of-type {\n",
              "        vertical-align: middle;\n",
              "    }\n",
              "\n",
              "    .dataframe tbody tr th {\n",
              "        vertical-align: top;\n",
              "    }\n",
              "\n",
              "    .dataframe thead th {\n",
              "        text-align: right;\n",
              "    }\n",
              "</style>\n",
              "<table border=\"1\" class=\"dataframe\">\n",
              "  <thead>\n",
              "    <tr style=\"text-align: right;\">\n",
              "      <th></th>\n",
              "      <th>id</th>\n",
              "      <th>age</th>\n",
              "      <th>education</th>\n",
              "      <th>sex</th>\n",
              "      <th>is_smoking</th>\n",
              "      <th>cigsPerDay</th>\n",
              "      <th>BPMeds</th>\n",
              "      <th>prevalentStroke</th>\n",
              "      <th>prevalentHyp</th>\n",
              "      <th>diabetes</th>\n",
              "      <th>totChol</th>\n",
              "      <th>sysBP</th>\n",
              "      <th>diaBP</th>\n",
              "      <th>BMI</th>\n",
              "      <th>heartRate</th>\n",
              "      <th>glucose</th>\n",
              "      <th>TenYearCHD</th>\n",
              "    </tr>\n",
              "  </thead>\n",
              "  <tbody>\n",
              "    <tr>\n",
              "      <th>9</th>\n",
              "      <td>9</td>\n",
              "      <td>55</td>\n",
              "      <td>2.0</td>\n",
              "      <td>F</td>\n",
              "      <td>NO</td>\n",
              "      <td>0.0</td>\n",
              "      <td>0.0</td>\n",
              "      <td>0</td>\n",
              "      <td>1</td>\n",
              "      <td>0</td>\n",
              "      <td>326.0</td>\n",
              "      <td>144.0</td>\n",
              "      <td>81.0</td>\n",
              "      <td>25.71</td>\n",
              "      <td>85.0</td>\n",
              "      <td>NaN</td>\n",
              "      <td>0</td>\n",
              "    </tr>\n",
              "    <tr>\n",
              "      <th>10</th>\n",
              "      <td>10</td>\n",
              "      <td>61</td>\n",
              "      <td>1.0</td>\n",
              "      <td>F</td>\n",
              "      <td>NO</td>\n",
              "      <td>0.0</td>\n",
              "      <td>0.0</td>\n",
              "      <td>0</td>\n",
              "      <td>1</td>\n",
              "      <td>0</td>\n",
              "      <td>NaN</td>\n",
              "      <td>185.0</td>\n",
              "      <td>121.0</td>\n",
              "      <td>35.22</td>\n",
              "      <td>80.0</td>\n",
              "      <td>NaN</td>\n",
              "      <td>0</td>\n",
              "    </tr>\n",
              "    <tr>\n",
              "      <th>36</th>\n",
              "      <td>36</td>\n",
              "      <td>46</td>\n",
              "      <td>3.0</td>\n",
              "      <td>F</td>\n",
              "      <td>NO</td>\n",
              "      <td>0.0</td>\n",
              "      <td>0.0</td>\n",
              "      <td>0</td>\n",
              "      <td>0</td>\n",
              "      <td>0</td>\n",
              "      <td>193.0</td>\n",
              "      <td>106.5</td>\n",
              "      <td>70.5</td>\n",
              "      <td>26.18</td>\n",
              "      <td>75.0</td>\n",
              "      <td>NaN</td>\n",
              "      <td>0</td>\n",
              "    </tr>\n",
              "    <tr>\n",
              "      <th>38</th>\n",
              "      <td>38</td>\n",
              "      <td>41</td>\n",
              "      <td>2.0</td>\n",
              "      <td>F</td>\n",
              "      <td>YES</td>\n",
              "      <td>9.0</td>\n",
              "      <td>1.0</td>\n",
              "      <td>1</td>\n",
              "      <td>1</td>\n",
              "      <td>0</td>\n",
              "      <td>180.0</td>\n",
              "      <td>114.0</td>\n",
              "      <td>70.0</td>\n",
              "      <td>22.41</td>\n",
              "      <td>92.0</td>\n",
              "      <td>NaN</td>\n",
              "      <td>0</td>\n",
              "    </tr>\n",
              "    <tr>\n",
              "      <th>55</th>\n",
              "      <td>55</td>\n",
              "      <td>51</td>\n",
              "      <td>2.0</td>\n",
              "      <td>F</td>\n",
              "      <td>NO</td>\n",
              "      <td>0.0</td>\n",
              "      <td>0.0</td>\n",
              "      <td>0</td>\n",
              "      <td>1</td>\n",
              "      <td>0</td>\n",
              "      <td>351.0</td>\n",
              "      <td>134.0</td>\n",
              "      <td>97.5</td>\n",
              "      <td>21.66</td>\n",
              "      <td>100.0</td>\n",
              "      <td>NaN</td>\n",
              "      <td>0</td>\n",
              "    </tr>\n",
              "  </tbody>\n",
              "</table>\n",
              "</div>\n",
              "      <button class=\"colab-df-convert\" onclick=\"convertToInteractive('df-a0990fff-fb54-48b4-8f68-d11897604e84')\"\n",
              "              title=\"Convert this dataframe to an interactive table.\"\n",
              "              style=\"display:none;\">\n",
              "        \n",
              "  <svg xmlns=\"http://www.w3.org/2000/svg\" height=\"24px\"viewBox=\"0 0 24 24\"\n",
              "       width=\"24px\">\n",
              "    <path d=\"M0 0h24v24H0V0z\" fill=\"none\"/>\n",
              "    <path d=\"M18.56 5.44l.94 2.06.94-2.06 2.06-.94-2.06-.94-.94-2.06-.94 2.06-2.06.94zm-11 1L8.5 8.5l.94-2.06 2.06-.94-2.06-.94L8.5 2.5l-.94 2.06-2.06.94zm10 10l.94 2.06.94-2.06 2.06-.94-2.06-.94-.94-2.06-.94 2.06-2.06.94z\"/><path d=\"M17.41 7.96l-1.37-1.37c-.4-.4-.92-.59-1.43-.59-.52 0-1.04.2-1.43.59L10.3 9.45l-7.72 7.72c-.78.78-.78 2.05 0 2.83L4 21.41c.39.39.9.59 1.41.59.51 0 1.02-.2 1.41-.59l7.78-7.78 2.81-2.81c.8-.78.8-2.07 0-2.86zM5.41 20L4 18.59l7.72-7.72 1.47 1.35L5.41 20z\"/>\n",
              "  </svg>\n",
              "      </button>\n",
              "      \n",
              "  <style>\n",
              "    .colab-df-container {\n",
              "      display:flex;\n",
              "      flex-wrap:wrap;\n",
              "      gap: 12px;\n",
              "    }\n",
              "\n",
              "    .colab-df-convert {\n",
              "      background-color: #E8F0FE;\n",
              "      border: none;\n",
              "      border-radius: 50%;\n",
              "      cursor: pointer;\n",
              "      display: none;\n",
              "      fill: #1967D2;\n",
              "      height: 32px;\n",
              "      padding: 0 0 0 0;\n",
              "      width: 32px;\n",
              "    }\n",
              "\n",
              "    .colab-df-convert:hover {\n",
              "      background-color: #E2EBFA;\n",
              "      box-shadow: 0px 1px 2px rgba(60, 64, 67, 0.3), 0px 1px 3px 1px rgba(60, 64, 67, 0.15);\n",
              "      fill: #174EA6;\n",
              "    }\n",
              "\n",
              "    [theme=dark] .colab-df-convert {\n",
              "      background-color: #3B4455;\n",
              "      fill: #D2E3FC;\n",
              "    }\n",
              "\n",
              "    [theme=dark] .colab-df-convert:hover {\n",
              "      background-color: #434B5C;\n",
              "      box-shadow: 0px 1px 3px 1px rgba(0, 0, 0, 0.15);\n",
              "      filter: drop-shadow(0px 1px 2px rgba(0, 0, 0, 0.3));\n",
              "      fill: #FFFFFF;\n",
              "    }\n",
              "  </style>\n",
              "\n",
              "      <script>\n",
              "        const buttonEl =\n",
              "          document.querySelector('#df-a0990fff-fb54-48b4-8f68-d11897604e84 button.colab-df-convert');\n",
              "        buttonEl.style.display =\n",
              "          google.colab.kernel.accessAllowed ? 'block' : 'none';\n",
              "\n",
              "        async function convertToInteractive(key) {\n",
              "          const element = document.querySelector('#df-a0990fff-fb54-48b4-8f68-d11897604e84');\n",
              "          const dataTable =\n",
              "            await google.colab.kernel.invokeFunction('convertToInteractive',\n",
              "                                                     [key], {});\n",
              "          if (!dataTable) return;\n",
              "\n",
              "          const docLinkHtml = 'Like what you see? Visit the ' +\n",
              "            '<a target=\"_blank\" href=https://colab.research.google.com/notebooks/data_table.ipynb>data table notebook</a>'\n",
              "            + ' to learn more about interactive tables.';\n",
              "          element.innerHTML = '';\n",
              "          dataTable['output_type'] = 'display_data';\n",
              "          await google.colab.output.renderOutput(dataTable, element);\n",
              "          const docLink = document.createElement('div');\n",
              "          docLink.innerHTML = docLinkHtml;\n",
              "          element.appendChild(docLink);\n",
              "        }\n",
              "      </script>\n",
              "    </div>\n",
              "  </div>\n",
              "  "
            ],
            "text/plain": [
              "    id  age  education sex  ...    BMI  heartRate  glucose  TenYearCHD\n",
              "9    9   55        2.0   F  ...  25.71       85.0      NaN           0\n",
              "10  10   61        1.0   F  ...  35.22       80.0      NaN           0\n",
              "36  36   46        3.0   F  ...  26.18       75.0      NaN           0\n",
              "38  38   41        2.0   F  ...  22.41       92.0      NaN           0\n",
              "55  55   51        2.0   F  ...  21.66      100.0      NaN           0\n",
              "\n",
              "[5 rows x 17 columns]"
            ]
          },
          "metadata": {},
          "execution_count": 480
        }
      ]
    },
    {
      "cell_type": "markdown",
      "source": [
        "glucose has a relation with diabetes and we will see it"
      ],
      "metadata": {
        "id": "aNLT_qtJsor7"
      }
    },
    {
      "cell_type": "code",
      "source": [
        "data[data['diabetes']== 0].head()"
      ],
      "metadata": {
        "colab": {
          "base_uri": "https://localhost:8080/",
          "height": 206
        },
        "id": "Re-F9bWWp3uq",
        "outputId": "f6420fa8-b347-4fcb-e857-ea3664d0e086"
      },
      "execution_count": 481,
      "outputs": [
        {
          "output_type": "execute_result",
          "data": {
            "text/html": [
              "\n",
              "  <div id=\"df-1ef45421-601b-4f44-806a-b2adedfdce02\">\n",
              "    <div class=\"colab-df-container\">\n",
              "      <div>\n",
              "<style scoped>\n",
              "    .dataframe tbody tr th:only-of-type {\n",
              "        vertical-align: middle;\n",
              "    }\n",
              "\n",
              "    .dataframe tbody tr th {\n",
              "        vertical-align: top;\n",
              "    }\n",
              "\n",
              "    .dataframe thead th {\n",
              "        text-align: right;\n",
              "    }\n",
              "</style>\n",
              "<table border=\"1\" class=\"dataframe\">\n",
              "  <thead>\n",
              "    <tr style=\"text-align: right;\">\n",
              "      <th></th>\n",
              "      <th>id</th>\n",
              "      <th>age</th>\n",
              "      <th>education</th>\n",
              "      <th>sex</th>\n",
              "      <th>is_smoking</th>\n",
              "      <th>cigsPerDay</th>\n",
              "      <th>BPMeds</th>\n",
              "      <th>prevalentStroke</th>\n",
              "      <th>prevalentHyp</th>\n",
              "      <th>diabetes</th>\n",
              "      <th>totChol</th>\n",
              "      <th>sysBP</th>\n",
              "      <th>diaBP</th>\n",
              "      <th>BMI</th>\n",
              "      <th>heartRate</th>\n",
              "      <th>glucose</th>\n",
              "      <th>TenYearCHD</th>\n",
              "    </tr>\n",
              "  </thead>\n",
              "  <tbody>\n",
              "    <tr>\n",
              "      <th>0</th>\n",
              "      <td>0</td>\n",
              "      <td>64</td>\n",
              "      <td>2.0</td>\n",
              "      <td>F</td>\n",
              "      <td>YES</td>\n",
              "      <td>3.0</td>\n",
              "      <td>0.0</td>\n",
              "      <td>0</td>\n",
              "      <td>0</td>\n",
              "      <td>0</td>\n",
              "      <td>221.0</td>\n",
              "      <td>148.0</td>\n",
              "      <td>85.0</td>\n",
              "      <td>NaN</td>\n",
              "      <td>90.0</td>\n",
              "      <td>80.0</td>\n",
              "      <td>1</td>\n",
              "    </tr>\n",
              "    <tr>\n",
              "      <th>1</th>\n",
              "      <td>1</td>\n",
              "      <td>36</td>\n",
              "      <td>4.0</td>\n",
              "      <td>M</td>\n",
              "      <td>NO</td>\n",
              "      <td>0.0</td>\n",
              "      <td>0.0</td>\n",
              "      <td>0</td>\n",
              "      <td>1</td>\n",
              "      <td>0</td>\n",
              "      <td>212.0</td>\n",
              "      <td>168.0</td>\n",
              "      <td>98.0</td>\n",
              "      <td>29.77</td>\n",
              "      <td>72.0</td>\n",
              "      <td>75.0</td>\n",
              "      <td>0</td>\n",
              "    </tr>\n",
              "    <tr>\n",
              "      <th>2</th>\n",
              "      <td>2</td>\n",
              "      <td>46</td>\n",
              "      <td>1.0</td>\n",
              "      <td>F</td>\n",
              "      <td>YES</td>\n",
              "      <td>10.0</td>\n",
              "      <td>0.0</td>\n",
              "      <td>0</td>\n",
              "      <td>0</td>\n",
              "      <td>0</td>\n",
              "      <td>250.0</td>\n",
              "      <td>116.0</td>\n",
              "      <td>71.0</td>\n",
              "      <td>20.35</td>\n",
              "      <td>88.0</td>\n",
              "      <td>94.0</td>\n",
              "      <td>0</td>\n",
              "    </tr>\n",
              "    <tr>\n",
              "      <th>3</th>\n",
              "      <td>3</td>\n",
              "      <td>50</td>\n",
              "      <td>1.0</td>\n",
              "      <td>M</td>\n",
              "      <td>YES</td>\n",
              "      <td>20.0</td>\n",
              "      <td>0.0</td>\n",
              "      <td>0</td>\n",
              "      <td>1</td>\n",
              "      <td>0</td>\n",
              "      <td>233.0</td>\n",
              "      <td>158.0</td>\n",
              "      <td>88.0</td>\n",
              "      <td>28.26</td>\n",
              "      <td>68.0</td>\n",
              "      <td>94.0</td>\n",
              "      <td>1</td>\n",
              "    </tr>\n",
              "    <tr>\n",
              "      <th>4</th>\n",
              "      <td>4</td>\n",
              "      <td>64</td>\n",
              "      <td>1.0</td>\n",
              "      <td>F</td>\n",
              "      <td>YES</td>\n",
              "      <td>30.0</td>\n",
              "      <td>0.0</td>\n",
              "      <td>0</td>\n",
              "      <td>0</td>\n",
              "      <td>0</td>\n",
              "      <td>241.0</td>\n",
              "      <td>136.5</td>\n",
              "      <td>85.0</td>\n",
              "      <td>26.42</td>\n",
              "      <td>70.0</td>\n",
              "      <td>77.0</td>\n",
              "      <td>0</td>\n",
              "    </tr>\n",
              "  </tbody>\n",
              "</table>\n",
              "</div>\n",
              "      <button class=\"colab-df-convert\" onclick=\"convertToInteractive('df-1ef45421-601b-4f44-806a-b2adedfdce02')\"\n",
              "              title=\"Convert this dataframe to an interactive table.\"\n",
              "              style=\"display:none;\">\n",
              "        \n",
              "  <svg xmlns=\"http://www.w3.org/2000/svg\" height=\"24px\"viewBox=\"0 0 24 24\"\n",
              "       width=\"24px\">\n",
              "    <path d=\"M0 0h24v24H0V0z\" fill=\"none\"/>\n",
              "    <path d=\"M18.56 5.44l.94 2.06.94-2.06 2.06-.94-2.06-.94-.94-2.06-.94 2.06-2.06.94zm-11 1L8.5 8.5l.94-2.06 2.06-.94-2.06-.94L8.5 2.5l-.94 2.06-2.06.94zm10 10l.94 2.06.94-2.06 2.06-.94-2.06-.94-.94-2.06-.94 2.06-2.06.94z\"/><path d=\"M17.41 7.96l-1.37-1.37c-.4-.4-.92-.59-1.43-.59-.52 0-1.04.2-1.43.59L10.3 9.45l-7.72 7.72c-.78.78-.78 2.05 0 2.83L4 21.41c.39.39.9.59 1.41.59.51 0 1.02-.2 1.41-.59l7.78-7.78 2.81-2.81c.8-.78.8-2.07 0-2.86zM5.41 20L4 18.59l7.72-7.72 1.47 1.35L5.41 20z\"/>\n",
              "  </svg>\n",
              "      </button>\n",
              "      \n",
              "  <style>\n",
              "    .colab-df-container {\n",
              "      display:flex;\n",
              "      flex-wrap:wrap;\n",
              "      gap: 12px;\n",
              "    }\n",
              "\n",
              "    .colab-df-convert {\n",
              "      background-color: #E8F0FE;\n",
              "      border: none;\n",
              "      border-radius: 50%;\n",
              "      cursor: pointer;\n",
              "      display: none;\n",
              "      fill: #1967D2;\n",
              "      height: 32px;\n",
              "      padding: 0 0 0 0;\n",
              "      width: 32px;\n",
              "    }\n",
              "\n",
              "    .colab-df-convert:hover {\n",
              "      background-color: #E2EBFA;\n",
              "      box-shadow: 0px 1px 2px rgba(60, 64, 67, 0.3), 0px 1px 3px 1px rgba(60, 64, 67, 0.15);\n",
              "      fill: #174EA6;\n",
              "    }\n",
              "\n",
              "    [theme=dark] .colab-df-convert {\n",
              "      background-color: #3B4455;\n",
              "      fill: #D2E3FC;\n",
              "    }\n",
              "\n",
              "    [theme=dark] .colab-df-convert:hover {\n",
              "      background-color: #434B5C;\n",
              "      box-shadow: 0px 1px 3px 1px rgba(0, 0, 0, 0.15);\n",
              "      filter: drop-shadow(0px 1px 2px rgba(0, 0, 0, 0.3));\n",
              "      fill: #FFFFFF;\n",
              "    }\n",
              "  </style>\n",
              "\n",
              "      <script>\n",
              "        const buttonEl =\n",
              "          document.querySelector('#df-1ef45421-601b-4f44-806a-b2adedfdce02 button.colab-df-convert');\n",
              "        buttonEl.style.display =\n",
              "          google.colab.kernel.accessAllowed ? 'block' : 'none';\n",
              "\n",
              "        async function convertToInteractive(key) {\n",
              "          const element = document.querySelector('#df-1ef45421-601b-4f44-806a-b2adedfdce02');\n",
              "          const dataTable =\n",
              "            await google.colab.kernel.invokeFunction('convertToInteractive',\n",
              "                                                     [key], {});\n",
              "          if (!dataTable) return;\n",
              "\n",
              "          const docLinkHtml = 'Like what you see? Visit the ' +\n",
              "            '<a target=\"_blank\" href=https://colab.research.google.com/notebooks/data_table.ipynb>data table notebook</a>'\n",
              "            + ' to learn more about interactive tables.';\n",
              "          element.innerHTML = '';\n",
              "          dataTable['output_type'] = 'display_data';\n",
              "          await google.colab.output.renderOutput(dataTable, element);\n",
              "          const docLink = document.createElement('div');\n",
              "          docLink.innerHTML = docLinkHtml;\n",
              "          element.appendChild(docLink);\n",
              "        }\n",
              "      </script>\n",
              "    </div>\n",
              "  </div>\n",
              "  "
            ],
            "text/plain": [
              "   id  age  education sex  ...    BMI  heartRate  glucose  TenYearCHD\n",
              "0   0   64        2.0   F  ...    NaN       90.0     80.0           1\n",
              "1   1   36        4.0   M  ...  29.77       72.0     75.0           0\n",
              "2   2   46        1.0   F  ...  20.35       88.0     94.0           0\n",
              "3   3   50        1.0   M  ...  28.26       68.0     94.0           1\n",
              "4   4   64        1.0   F  ...  26.42       70.0     77.0           0\n",
              "\n",
              "[5 rows x 17 columns]"
            ]
          },
          "metadata": {},
          "execution_count": 481
        }
      ]
    },
    {
      "cell_type": "code",
      "source": [
        "data[data['diabetes']== 1].head()"
      ],
      "metadata": {
        "colab": {
          "base_uri": "https://localhost:8080/",
          "height": 206
        },
        "id": "MIPpaHsNpm-O",
        "outputId": "f84116d5-0a2f-4d2c-fd26-c5f88b28b7ed"
      },
      "execution_count": 482,
      "outputs": [
        {
          "output_type": "execute_result",
          "data": {
            "text/html": [
              "\n",
              "  <div id=\"df-b2fa21fa-58e6-42e2-81b9-797f06e4f2a9\">\n",
              "    <div class=\"colab-df-container\">\n",
              "      <div>\n",
              "<style scoped>\n",
              "    .dataframe tbody tr th:only-of-type {\n",
              "        vertical-align: middle;\n",
              "    }\n",
              "\n",
              "    .dataframe tbody tr th {\n",
              "        vertical-align: top;\n",
              "    }\n",
              "\n",
              "    .dataframe thead th {\n",
              "        text-align: right;\n",
              "    }\n",
              "</style>\n",
              "<table border=\"1\" class=\"dataframe\">\n",
              "  <thead>\n",
              "    <tr style=\"text-align: right;\">\n",
              "      <th></th>\n",
              "      <th>id</th>\n",
              "      <th>age</th>\n",
              "      <th>education</th>\n",
              "      <th>sex</th>\n",
              "      <th>is_smoking</th>\n",
              "      <th>cigsPerDay</th>\n",
              "      <th>BPMeds</th>\n",
              "      <th>prevalentStroke</th>\n",
              "      <th>prevalentHyp</th>\n",
              "      <th>diabetes</th>\n",
              "      <th>totChol</th>\n",
              "      <th>sysBP</th>\n",
              "      <th>diaBP</th>\n",
              "      <th>BMI</th>\n",
              "      <th>heartRate</th>\n",
              "      <th>glucose</th>\n",
              "      <th>TenYearCHD</th>\n",
              "    </tr>\n",
              "  </thead>\n",
              "  <tbody>\n",
              "    <tr>\n",
              "      <th>77</th>\n",
              "      <td>77</td>\n",
              "      <td>63</td>\n",
              "      <td>1.0</td>\n",
              "      <td>F</td>\n",
              "      <td>NO</td>\n",
              "      <td>0.0</td>\n",
              "      <td>0.0</td>\n",
              "      <td>0</td>\n",
              "      <td>1</td>\n",
              "      <td>1</td>\n",
              "      <td>150.0</td>\n",
              "      <td>152.0</td>\n",
              "      <td>88.0</td>\n",
              "      <td>36.54</td>\n",
              "      <td>72.0</td>\n",
              "      <td>170.0</td>\n",
              "      <td>0</td>\n",
              "    </tr>\n",
              "    <tr>\n",
              "      <th>107</th>\n",
              "      <td>107</td>\n",
              "      <td>45</td>\n",
              "      <td>4.0</td>\n",
              "      <td>M</td>\n",
              "      <td>NO</td>\n",
              "      <td>0.0</td>\n",
              "      <td>0.0</td>\n",
              "      <td>0</td>\n",
              "      <td>0</td>\n",
              "      <td>1</td>\n",
              "      <td>189.0</td>\n",
              "      <td>132.0</td>\n",
              "      <td>78.0</td>\n",
              "      <td>28.40</td>\n",
              "      <td>75.0</td>\n",
              "      <td>177.0</td>\n",
              "      <td>0</td>\n",
              "    </tr>\n",
              "    <tr>\n",
              "      <th>130</th>\n",
              "      <td>130</td>\n",
              "      <td>63</td>\n",
              "      <td>1.0</td>\n",
              "      <td>M</td>\n",
              "      <td>NO</td>\n",
              "      <td>0.0</td>\n",
              "      <td>0.0</td>\n",
              "      <td>0</td>\n",
              "      <td>0</td>\n",
              "      <td>1</td>\n",
              "      <td>229.0</td>\n",
              "      <td>109.0</td>\n",
              "      <td>75.0</td>\n",
              "      <td>38.42</td>\n",
              "      <td>110.0</td>\n",
              "      <td>120.0</td>\n",
              "      <td>0</td>\n",
              "    </tr>\n",
              "    <tr>\n",
              "      <th>134</th>\n",
              "      <td>134</td>\n",
              "      <td>64</td>\n",
              "      <td>1.0</td>\n",
              "      <td>F</td>\n",
              "      <td>NO</td>\n",
              "      <td>0.0</td>\n",
              "      <td>0.0</td>\n",
              "      <td>0</td>\n",
              "      <td>1</td>\n",
              "      <td>1</td>\n",
              "      <td>262.0</td>\n",
              "      <td>147.0</td>\n",
              "      <td>90.0</td>\n",
              "      <td>26.51</td>\n",
              "      <td>85.0</td>\n",
              "      <td>173.0</td>\n",
              "      <td>0</td>\n",
              "    </tr>\n",
              "    <tr>\n",
              "      <th>173</th>\n",
              "      <td>173</td>\n",
              "      <td>58</td>\n",
              "      <td>1.0</td>\n",
              "      <td>F</td>\n",
              "      <td>NO</td>\n",
              "      <td>0.0</td>\n",
              "      <td>0.0</td>\n",
              "      <td>1</td>\n",
              "      <td>1</td>\n",
              "      <td>1</td>\n",
              "      <td>267.0</td>\n",
              "      <td>157.0</td>\n",
              "      <td>94.0</td>\n",
              "      <td>33.32</td>\n",
              "      <td>92.0</td>\n",
              "      <td>205.0</td>\n",
              "      <td>1</td>\n",
              "    </tr>\n",
              "  </tbody>\n",
              "</table>\n",
              "</div>\n",
              "      <button class=\"colab-df-convert\" onclick=\"convertToInteractive('df-b2fa21fa-58e6-42e2-81b9-797f06e4f2a9')\"\n",
              "              title=\"Convert this dataframe to an interactive table.\"\n",
              "              style=\"display:none;\">\n",
              "        \n",
              "  <svg xmlns=\"http://www.w3.org/2000/svg\" height=\"24px\"viewBox=\"0 0 24 24\"\n",
              "       width=\"24px\">\n",
              "    <path d=\"M0 0h24v24H0V0z\" fill=\"none\"/>\n",
              "    <path d=\"M18.56 5.44l.94 2.06.94-2.06 2.06-.94-2.06-.94-.94-2.06-.94 2.06-2.06.94zm-11 1L8.5 8.5l.94-2.06 2.06-.94-2.06-.94L8.5 2.5l-.94 2.06-2.06.94zm10 10l.94 2.06.94-2.06 2.06-.94-2.06-.94-.94-2.06-.94 2.06-2.06.94z\"/><path d=\"M17.41 7.96l-1.37-1.37c-.4-.4-.92-.59-1.43-.59-.52 0-1.04.2-1.43.59L10.3 9.45l-7.72 7.72c-.78.78-.78 2.05 0 2.83L4 21.41c.39.39.9.59 1.41.59.51 0 1.02-.2 1.41-.59l7.78-7.78 2.81-2.81c.8-.78.8-2.07 0-2.86zM5.41 20L4 18.59l7.72-7.72 1.47 1.35L5.41 20z\"/>\n",
              "  </svg>\n",
              "      </button>\n",
              "      \n",
              "  <style>\n",
              "    .colab-df-container {\n",
              "      display:flex;\n",
              "      flex-wrap:wrap;\n",
              "      gap: 12px;\n",
              "    }\n",
              "\n",
              "    .colab-df-convert {\n",
              "      background-color: #E8F0FE;\n",
              "      border: none;\n",
              "      border-radius: 50%;\n",
              "      cursor: pointer;\n",
              "      display: none;\n",
              "      fill: #1967D2;\n",
              "      height: 32px;\n",
              "      padding: 0 0 0 0;\n",
              "      width: 32px;\n",
              "    }\n",
              "\n",
              "    .colab-df-convert:hover {\n",
              "      background-color: #E2EBFA;\n",
              "      box-shadow: 0px 1px 2px rgba(60, 64, 67, 0.3), 0px 1px 3px 1px rgba(60, 64, 67, 0.15);\n",
              "      fill: #174EA6;\n",
              "    }\n",
              "\n",
              "    [theme=dark] .colab-df-convert {\n",
              "      background-color: #3B4455;\n",
              "      fill: #D2E3FC;\n",
              "    }\n",
              "\n",
              "    [theme=dark] .colab-df-convert:hover {\n",
              "      background-color: #434B5C;\n",
              "      box-shadow: 0px 1px 3px 1px rgba(0, 0, 0, 0.15);\n",
              "      filter: drop-shadow(0px 1px 2px rgba(0, 0, 0, 0.3));\n",
              "      fill: #FFFFFF;\n",
              "    }\n",
              "  </style>\n",
              "\n",
              "      <script>\n",
              "        const buttonEl =\n",
              "          document.querySelector('#df-b2fa21fa-58e6-42e2-81b9-797f06e4f2a9 button.colab-df-convert');\n",
              "        buttonEl.style.display =\n",
              "          google.colab.kernel.accessAllowed ? 'block' : 'none';\n",
              "\n",
              "        async function convertToInteractive(key) {\n",
              "          const element = document.querySelector('#df-b2fa21fa-58e6-42e2-81b9-797f06e4f2a9');\n",
              "          const dataTable =\n",
              "            await google.colab.kernel.invokeFunction('convertToInteractive',\n",
              "                                                     [key], {});\n",
              "          if (!dataTable) return;\n",
              "\n",
              "          const docLinkHtml = 'Like what you see? Visit the ' +\n",
              "            '<a target=\"_blank\" href=https://colab.research.google.com/notebooks/data_table.ipynb>data table notebook</a>'\n",
              "            + ' to learn more about interactive tables.';\n",
              "          element.innerHTML = '';\n",
              "          dataTable['output_type'] = 'display_data';\n",
              "          await google.colab.output.renderOutput(dataTable, element);\n",
              "          const docLink = document.createElement('div');\n",
              "          docLink.innerHTML = docLinkHtml;\n",
              "          element.appendChild(docLink);\n",
              "        }\n",
              "      </script>\n",
              "    </div>\n",
              "  </div>\n",
              "  "
            ],
            "text/plain": [
              "      id  age  education sex  ...    BMI  heartRate  glucose  TenYearCHD\n",
              "77    77   63        1.0   F  ...  36.54       72.0    170.0           0\n",
              "107  107   45        4.0   M  ...  28.40       75.0    177.0           0\n",
              "130  130   63        1.0   M  ...  38.42      110.0    120.0           0\n",
              "134  134   64        1.0   F  ...  26.51       85.0    173.0           0\n",
              "173  173   58        1.0   F  ...  33.32       92.0    205.0           1\n",
              "\n",
              "[5 rows x 17 columns]"
            ]
          },
          "metadata": {},
          "execution_count": 482
        }
      ]
    },
    {
      "cell_type": "markdown",
      "source": [
        "We can see non-diabetic person has glucose less than 100 whereas diabetic person has glucose above 100. Since, diabetes column do not have any null value so we will use it in filling missing values of glucose column"
      ],
      "metadata": {
        "id": "bo1ssti8tcDR"
      }
    },
    {
      "cell_type": "code",
      "source": [
        "# mean glucose of non-diabetic person\n",
        "mean_glu0 = int(data[data['diabetes']== 0]['glucose'].mean())\n",
        "mean_glu0"
      ],
      "metadata": {
        "colab": {
          "base_uri": "https://localhost:8080/"
        },
        "id": "9XfuUwBvtxsL",
        "outputId": "81e901ec-fe31-4528-c1e7-a4b308388391"
      },
      "execution_count": 483,
      "outputs": [
        {
          "output_type": "execute_result",
          "data": {
            "text/plain": [
              "79"
            ]
          },
          "metadata": {},
          "execution_count": 483
        }
      ]
    },
    {
      "cell_type": "code",
      "source": [
        "# # mean glucose of diabetic person\n",
        "mean_glu1 = int(data[data['diabetes']== 1]['glucose'].mean())\n",
        "mean_glu1"
      ],
      "metadata": {
        "colab": {
          "base_uri": "https://localhost:8080/"
        },
        "id": "Q_qWEOe5txko",
        "outputId": "cec90f93-d339-4a5a-ea11-59b6b7d7ff9a"
      },
      "execution_count": 484,
      "outputs": [
        {
          "output_type": "execute_result",
          "data": {
            "text/plain": [
              "171"
            ]
          },
          "metadata": {},
          "execution_count": 484
        }
      ]
    },
    {
      "cell_type": "code",
      "source": [
        "# filling null values of glucose column\n",
        "cond = data['diabetes'] == 1\n",
        "data['glucose'] = data['glucose'].fillna(cond.map({True:mean_glu1, False: mean_glu0}))"
      ],
      "metadata": {
        "id": "mwCXRGiSvMbm"
      },
      "execution_count": 485,
      "outputs": []
    },
    {
      "cell_type": "markdown",
      "source": [
        "The other features have very few missing entries and could be dropped without losing a lot of data."
      ],
      "metadata": {
        "id": "-IHnC-ZKQZPH"
      }
    },
    {
      "cell_type": "code",
      "source": [
        "# droping missing values\n",
        "data = data.dropna()"
      ],
      "metadata": {
        "id": "JAq-Hjv6O3vA"
      },
      "execution_count": 486,
      "outputs": []
    },
    {
      "cell_type": "code",
      "source": [
        "data.isnull().any()"
      ],
      "metadata": {
        "colab": {
          "base_uri": "https://localhost:8080/"
        },
        "id": "FRd6zFDdU1u7",
        "outputId": "4faf0c59-3714-49cc-e7df-e51edfd4fe7c"
      },
      "execution_count": 487,
      "outputs": [
        {
          "output_type": "execute_result",
          "data": {
            "text/plain": [
              "id                 False\n",
              "age                False\n",
              "education          False\n",
              "sex                False\n",
              "is_smoking         False\n",
              "cigsPerDay         False\n",
              "BPMeds             False\n",
              "prevalentStroke    False\n",
              "prevalentHyp       False\n",
              "diabetes           False\n",
              "totChol            False\n",
              "sysBP              False\n",
              "diaBP              False\n",
              "BMI                False\n",
              "heartRate          False\n",
              "glucose            False\n",
              "TenYearCHD         False\n",
              "dtype: bool"
            ]
          },
          "metadata": {},
          "execution_count": 487
        }
      ]
    },
    {
      "cell_type": "markdown",
      "source": [
        "There are no any missing values present in the dataset. Also, id and education columns are not so usefull for us so droping both."
      ],
      "metadata": {
        "id": "iNxkDKPXWXXy"
      }
    },
    {
      "cell_type": "code",
      "source": [
        "data = data.drop(['id','education'], axis=1)"
      ],
      "metadata": {
        "id": "pFyhTWNYUQK1"
      },
      "execution_count": 488,
      "outputs": []
    },
    {
      "cell_type": "code",
      "source": [
        "data.dtypes"
      ],
      "metadata": {
        "colab": {
          "base_uri": "https://localhost:8080/"
        },
        "id": "zuiSVvPFH6In",
        "outputId": "294f1347-dc7a-4725-f413-f8a122ab3dd5"
      },
      "execution_count": 489,
      "outputs": [
        {
          "output_type": "execute_result",
          "data": {
            "text/plain": [
              "age                  int64\n",
              "sex                 object\n",
              "is_smoking          object\n",
              "cigsPerDay         float64\n",
              "BPMeds             float64\n",
              "prevalentStroke      int64\n",
              "prevalentHyp         int64\n",
              "diabetes             int64\n",
              "totChol            float64\n",
              "sysBP              float64\n",
              "diaBP              float64\n",
              "BMI                float64\n",
              "heartRate          float64\n",
              "glucose            float64\n",
              "TenYearCHD           int64\n",
              "dtype: object"
            ]
          },
          "metadata": {},
          "execution_count": 489
        }
      ]
    },
    {
      "cell_type": "code",
      "source": [
        "# change dtypes\n",
        "data = data.astype({'BPMeds':int, 'cigsPerDay':int})"
      ],
      "metadata": {
        "id": "lVj9znYGH_f3"
      },
      "execution_count": 490,
      "outputs": []
    },
    {
      "cell_type": "code",
      "source": [
        "new_df = data.rename(columns={'sex':'gender'})"
      ],
      "metadata": {
        "id": "YHUhOsIW3yn3"
      },
      "execution_count": 491,
      "outputs": []
    },
    {
      "cell_type": "code",
      "source": [
        "new_df.head()"
      ],
      "metadata": {
        "colab": {
          "base_uri": "https://localhost:8080/",
          "height": 206
        },
        "id": "3NZ_p3bMTFYu",
        "outputId": "06d0d90d-8ac1-4b91-e532-47ea8456db0d"
      },
      "execution_count": 492,
      "outputs": [
        {
          "output_type": "execute_result",
          "data": {
            "text/html": [
              "\n",
              "  <div id=\"df-74822582-cb3f-4043-b232-fa21fc3d6e57\">\n",
              "    <div class=\"colab-df-container\">\n",
              "      <div>\n",
              "<style scoped>\n",
              "    .dataframe tbody tr th:only-of-type {\n",
              "        vertical-align: middle;\n",
              "    }\n",
              "\n",
              "    .dataframe tbody tr th {\n",
              "        vertical-align: top;\n",
              "    }\n",
              "\n",
              "    .dataframe thead th {\n",
              "        text-align: right;\n",
              "    }\n",
              "</style>\n",
              "<table border=\"1\" class=\"dataframe\">\n",
              "  <thead>\n",
              "    <tr style=\"text-align: right;\">\n",
              "      <th></th>\n",
              "      <th>age</th>\n",
              "      <th>gender</th>\n",
              "      <th>is_smoking</th>\n",
              "      <th>cigsPerDay</th>\n",
              "      <th>BPMeds</th>\n",
              "      <th>prevalentStroke</th>\n",
              "      <th>prevalentHyp</th>\n",
              "      <th>diabetes</th>\n",
              "      <th>totChol</th>\n",
              "      <th>sysBP</th>\n",
              "      <th>diaBP</th>\n",
              "      <th>BMI</th>\n",
              "      <th>heartRate</th>\n",
              "      <th>glucose</th>\n",
              "      <th>TenYearCHD</th>\n",
              "    </tr>\n",
              "  </thead>\n",
              "  <tbody>\n",
              "    <tr>\n",
              "      <th>1</th>\n",
              "      <td>36</td>\n",
              "      <td>M</td>\n",
              "      <td>NO</td>\n",
              "      <td>0</td>\n",
              "      <td>0</td>\n",
              "      <td>0</td>\n",
              "      <td>1</td>\n",
              "      <td>0</td>\n",
              "      <td>212.0</td>\n",
              "      <td>168.0</td>\n",
              "      <td>98.0</td>\n",
              "      <td>29.77</td>\n",
              "      <td>72.0</td>\n",
              "      <td>75.0</td>\n",
              "      <td>0</td>\n",
              "    </tr>\n",
              "    <tr>\n",
              "      <th>2</th>\n",
              "      <td>46</td>\n",
              "      <td>F</td>\n",
              "      <td>YES</td>\n",
              "      <td>10</td>\n",
              "      <td>0</td>\n",
              "      <td>0</td>\n",
              "      <td>0</td>\n",
              "      <td>0</td>\n",
              "      <td>250.0</td>\n",
              "      <td>116.0</td>\n",
              "      <td>71.0</td>\n",
              "      <td>20.35</td>\n",
              "      <td>88.0</td>\n",
              "      <td>94.0</td>\n",
              "      <td>0</td>\n",
              "    </tr>\n",
              "    <tr>\n",
              "      <th>3</th>\n",
              "      <td>50</td>\n",
              "      <td>M</td>\n",
              "      <td>YES</td>\n",
              "      <td>20</td>\n",
              "      <td>0</td>\n",
              "      <td>0</td>\n",
              "      <td>1</td>\n",
              "      <td>0</td>\n",
              "      <td>233.0</td>\n",
              "      <td>158.0</td>\n",
              "      <td>88.0</td>\n",
              "      <td>28.26</td>\n",
              "      <td>68.0</td>\n",
              "      <td>94.0</td>\n",
              "      <td>1</td>\n",
              "    </tr>\n",
              "    <tr>\n",
              "      <th>4</th>\n",
              "      <td>64</td>\n",
              "      <td>F</td>\n",
              "      <td>YES</td>\n",
              "      <td>30</td>\n",
              "      <td>0</td>\n",
              "      <td>0</td>\n",
              "      <td>0</td>\n",
              "      <td>0</td>\n",
              "      <td>241.0</td>\n",
              "      <td>136.5</td>\n",
              "      <td>85.0</td>\n",
              "      <td>26.42</td>\n",
              "      <td>70.0</td>\n",
              "      <td>77.0</td>\n",
              "      <td>0</td>\n",
              "    </tr>\n",
              "    <tr>\n",
              "      <th>5</th>\n",
              "      <td>61</td>\n",
              "      <td>F</td>\n",
              "      <td>NO</td>\n",
              "      <td>0</td>\n",
              "      <td>0</td>\n",
              "      <td>0</td>\n",
              "      <td>1</td>\n",
              "      <td>0</td>\n",
              "      <td>272.0</td>\n",
              "      <td>182.0</td>\n",
              "      <td>121.0</td>\n",
              "      <td>32.80</td>\n",
              "      <td>85.0</td>\n",
              "      <td>65.0</td>\n",
              "      <td>1</td>\n",
              "    </tr>\n",
              "  </tbody>\n",
              "</table>\n",
              "</div>\n",
              "      <button class=\"colab-df-convert\" onclick=\"convertToInteractive('df-74822582-cb3f-4043-b232-fa21fc3d6e57')\"\n",
              "              title=\"Convert this dataframe to an interactive table.\"\n",
              "              style=\"display:none;\">\n",
              "        \n",
              "  <svg xmlns=\"http://www.w3.org/2000/svg\" height=\"24px\"viewBox=\"0 0 24 24\"\n",
              "       width=\"24px\">\n",
              "    <path d=\"M0 0h24v24H0V0z\" fill=\"none\"/>\n",
              "    <path d=\"M18.56 5.44l.94 2.06.94-2.06 2.06-.94-2.06-.94-.94-2.06-.94 2.06-2.06.94zm-11 1L8.5 8.5l.94-2.06 2.06-.94-2.06-.94L8.5 2.5l-.94 2.06-2.06.94zm10 10l.94 2.06.94-2.06 2.06-.94-2.06-.94-.94-2.06-.94 2.06-2.06.94z\"/><path d=\"M17.41 7.96l-1.37-1.37c-.4-.4-.92-.59-1.43-.59-.52 0-1.04.2-1.43.59L10.3 9.45l-7.72 7.72c-.78.78-.78 2.05 0 2.83L4 21.41c.39.39.9.59 1.41.59.51 0 1.02-.2 1.41-.59l7.78-7.78 2.81-2.81c.8-.78.8-2.07 0-2.86zM5.41 20L4 18.59l7.72-7.72 1.47 1.35L5.41 20z\"/>\n",
              "  </svg>\n",
              "      </button>\n",
              "      \n",
              "  <style>\n",
              "    .colab-df-container {\n",
              "      display:flex;\n",
              "      flex-wrap:wrap;\n",
              "      gap: 12px;\n",
              "    }\n",
              "\n",
              "    .colab-df-convert {\n",
              "      background-color: #E8F0FE;\n",
              "      border: none;\n",
              "      border-radius: 50%;\n",
              "      cursor: pointer;\n",
              "      display: none;\n",
              "      fill: #1967D2;\n",
              "      height: 32px;\n",
              "      padding: 0 0 0 0;\n",
              "      width: 32px;\n",
              "    }\n",
              "\n",
              "    .colab-df-convert:hover {\n",
              "      background-color: #E2EBFA;\n",
              "      box-shadow: 0px 1px 2px rgba(60, 64, 67, 0.3), 0px 1px 3px 1px rgba(60, 64, 67, 0.15);\n",
              "      fill: #174EA6;\n",
              "    }\n",
              "\n",
              "    [theme=dark] .colab-df-convert {\n",
              "      background-color: #3B4455;\n",
              "      fill: #D2E3FC;\n",
              "    }\n",
              "\n",
              "    [theme=dark] .colab-df-convert:hover {\n",
              "      background-color: #434B5C;\n",
              "      box-shadow: 0px 1px 3px 1px rgba(0, 0, 0, 0.15);\n",
              "      filter: drop-shadow(0px 1px 2px rgba(0, 0, 0, 0.3));\n",
              "      fill: #FFFFFF;\n",
              "    }\n",
              "  </style>\n",
              "\n",
              "      <script>\n",
              "        const buttonEl =\n",
              "          document.querySelector('#df-74822582-cb3f-4043-b232-fa21fc3d6e57 button.colab-df-convert');\n",
              "        buttonEl.style.display =\n",
              "          google.colab.kernel.accessAllowed ? 'block' : 'none';\n",
              "\n",
              "        async function convertToInteractive(key) {\n",
              "          const element = document.querySelector('#df-74822582-cb3f-4043-b232-fa21fc3d6e57');\n",
              "          const dataTable =\n",
              "            await google.colab.kernel.invokeFunction('convertToInteractive',\n",
              "                                                     [key], {});\n",
              "          if (!dataTable) return;\n",
              "\n",
              "          const docLinkHtml = 'Like what you see? Visit the ' +\n",
              "            '<a target=\"_blank\" href=https://colab.research.google.com/notebooks/data_table.ipynb>data table notebook</a>'\n",
              "            + ' to learn more about interactive tables.';\n",
              "          element.innerHTML = '';\n",
              "          dataTable['output_type'] = 'display_data';\n",
              "          await google.colab.output.renderOutput(dataTable, element);\n",
              "          const docLink = document.createElement('div');\n",
              "          docLink.innerHTML = docLinkHtml;\n",
              "          element.appendChild(docLink);\n",
              "        }\n",
              "      </script>\n",
              "    </div>\n",
              "  </div>\n",
              "  "
            ],
            "text/plain": [
              "   age gender is_smoking  cigsPerDay  ...    BMI  heartRate  glucose  TenYearCHD\n",
              "1   36      M         NO           0  ...  29.77       72.0     75.0           0\n",
              "2   46      F        YES          10  ...  20.35       88.0     94.0           0\n",
              "3   50      M        YES          20  ...  28.26       68.0     94.0           1\n",
              "4   64      F        YES          30  ...  26.42       70.0     77.0           0\n",
              "5   61      F         NO           0  ...  32.80       85.0     65.0           1\n",
              "\n",
              "[5 rows x 15 columns]"
            ]
          },
          "metadata": {},
          "execution_count": 492
        }
      ]
    },
    {
      "cell_type": "code",
      "source": [
        "new_df.describe().T"
      ],
      "metadata": {
        "colab": {
          "base_uri": "https://localhost:8080/",
          "height": 457
        },
        "id": "DvDFqgVXkdO5",
        "outputId": "5823080e-93a4-4284-aad2-d686c31fc432"
      },
      "execution_count": 493,
      "outputs": [
        {
          "output_type": "execute_result",
          "data": {
            "text/html": [
              "\n",
              "  <div id=\"df-24bcd1dc-e076-49e5-bcab-60f66e9dadca\">\n",
              "    <div class=\"colab-df-container\">\n",
              "      <div>\n",
              "<style scoped>\n",
              "    .dataframe tbody tr th:only-of-type {\n",
              "        vertical-align: middle;\n",
              "    }\n",
              "\n",
              "    .dataframe tbody tr th {\n",
              "        vertical-align: top;\n",
              "    }\n",
              "\n",
              "    .dataframe thead th {\n",
              "        text-align: right;\n",
              "    }\n",
              "</style>\n",
              "<table border=\"1\" class=\"dataframe\">\n",
              "  <thead>\n",
              "    <tr style=\"text-align: right;\">\n",
              "      <th></th>\n",
              "      <th>count</th>\n",
              "      <th>mean</th>\n",
              "      <th>std</th>\n",
              "      <th>min</th>\n",
              "      <th>25%</th>\n",
              "      <th>50%</th>\n",
              "      <th>75%</th>\n",
              "      <th>max</th>\n",
              "    </tr>\n",
              "  </thead>\n",
              "  <tbody>\n",
              "    <tr>\n",
              "      <th>age</th>\n",
              "      <td>3189.0</td>\n",
              "      <td>49.423957</td>\n",
              "      <td>8.556235</td>\n",
              "      <td>32.00</td>\n",
              "      <td>42.00</td>\n",
              "      <td>49.00</td>\n",
              "      <td>56.00</td>\n",
              "      <td>70.0</td>\n",
              "    </tr>\n",
              "    <tr>\n",
              "      <th>cigsPerDay</th>\n",
              "      <td>3189.0</td>\n",
              "      <td>9.098150</td>\n",
              "      <td>11.864621</td>\n",
              "      <td>0.00</td>\n",
              "      <td>0.00</td>\n",
              "      <td>0.00</td>\n",
              "      <td>20.00</td>\n",
              "      <td>70.0</td>\n",
              "    </tr>\n",
              "    <tr>\n",
              "      <th>BPMeds</th>\n",
              "      <td>3189.0</td>\n",
              "      <td>0.029476</td>\n",
              "      <td>0.169164</td>\n",
              "      <td>0.00</td>\n",
              "      <td>0.00</td>\n",
              "      <td>0.00</td>\n",
              "      <td>0.00</td>\n",
              "      <td>1.0</td>\n",
              "    </tr>\n",
              "    <tr>\n",
              "      <th>prevalentStroke</th>\n",
              "      <td>3189.0</td>\n",
              "      <td>0.005958</td>\n",
              "      <td>0.076970</td>\n",
              "      <td>0.00</td>\n",
              "      <td>0.00</td>\n",
              "      <td>0.00</td>\n",
              "      <td>0.00</td>\n",
              "      <td>1.0</td>\n",
              "    </tr>\n",
              "    <tr>\n",
              "      <th>prevalentHyp</th>\n",
              "      <td>3189.0</td>\n",
              "      <td>0.313264</td>\n",
              "      <td>0.463894</td>\n",
              "      <td>0.00</td>\n",
              "      <td>0.00</td>\n",
              "      <td>0.00</td>\n",
              "      <td>1.00</td>\n",
              "      <td>1.0</td>\n",
              "    </tr>\n",
              "    <tr>\n",
              "      <th>diabetes</th>\n",
              "      <td>3189.0</td>\n",
              "      <td>0.025400</td>\n",
              "      <td>0.157361</td>\n",
              "      <td>0.00</td>\n",
              "      <td>0.00</td>\n",
              "      <td>0.00</td>\n",
              "      <td>0.00</td>\n",
              "      <td>1.0</td>\n",
              "    </tr>\n",
              "    <tr>\n",
              "      <th>totChol</th>\n",
              "      <td>3189.0</td>\n",
              "      <td>236.968642</td>\n",
              "      <td>44.537998</td>\n",
              "      <td>113.00</td>\n",
              "      <td>206.00</td>\n",
              "      <td>234.00</td>\n",
              "      <td>264.00</td>\n",
              "      <td>600.0</td>\n",
              "    </tr>\n",
              "    <tr>\n",
              "      <th>sysBP</th>\n",
              "      <td>3189.0</td>\n",
              "      <td>132.436344</td>\n",
              "      <td>22.176848</td>\n",
              "      <td>83.50</td>\n",
              "      <td>117.00</td>\n",
              "      <td>128.00</td>\n",
              "      <td>143.50</td>\n",
              "      <td>295.0</td>\n",
              "    </tr>\n",
              "    <tr>\n",
              "      <th>diaBP</th>\n",
              "      <td>3189.0</td>\n",
              "      <td>82.841173</td>\n",
              "      <td>11.993650</td>\n",
              "      <td>48.00</td>\n",
              "      <td>74.50</td>\n",
              "      <td>82.00</td>\n",
              "      <td>89.50</td>\n",
              "      <td>142.5</td>\n",
              "    </tr>\n",
              "    <tr>\n",
              "      <th>BMI</th>\n",
              "      <td>3189.0</td>\n",
              "      <td>25.774569</td>\n",
              "      <td>4.132848</td>\n",
              "      <td>15.96</td>\n",
              "      <td>22.94</td>\n",
              "      <td>25.37</td>\n",
              "      <td>27.99</td>\n",
              "      <td>56.8</td>\n",
              "    </tr>\n",
              "    <tr>\n",
              "      <th>heartRate</th>\n",
              "      <td>3189.0</td>\n",
              "      <td>76.034180</td>\n",
              "      <td>12.056788</td>\n",
              "      <td>45.00</td>\n",
              "      <td>68.00</td>\n",
              "      <td>75.00</td>\n",
              "      <td>83.00</td>\n",
              "      <td>143.0</td>\n",
              "    </tr>\n",
              "    <tr>\n",
              "      <th>glucose</th>\n",
              "      <td>3189.0</td>\n",
              "      <td>81.751019</td>\n",
              "      <td>23.217011</td>\n",
              "      <td>40.00</td>\n",
              "      <td>72.00</td>\n",
              "      <td>79.00</td>\n",
              "      <td>85.00</td>\n",
              "      <td>394.0</td>\n",
              "    </tr>\n",
              "    <tr>\n",
              "      <th>TenYearCHD</th>\n",
              "      <td>3189.0</td>\n",
              "      <td>0.148950</td>\n",
              "      <td>0.356095</td>\n",
              "      <td>0.00</td>\n",
              "      <td>0.00</td>\n",
              "      <td>0.00</td>\n",
              "      <td>0.00</td>\n",
              "      <td>1.0</td>\n",
              "    </tr>\n",
              "  </tbody>\n",
              "</table>\n",
              "</div>\n",
              "      <button class=\"colab-df-convert\" onclick=\"convertToInteractive('df-24bcd1dc-e076-49e5-bcab-60f66e9dadca')\"\n",
              "              title=\"Convert this dataframe to an interactive table.\"\n",
              "              style=\"display:none;\">\n",
              "        \n",
              "  <svg xmlns=\"http://www.w3.org/2000/svg\" height=\"24px\"viewBox=\"0 0 24 24\"\n",
              "       width=\"24px\">\n",
              "    <path d=\"M0 0h24v24H0V0z\" fill=\"none\"/>\n",
              "    <path d=\"M18.56 5.44l.94 2.06.94-2.06 2.06-.94-2.06-.94-.94-2.06-.94 2.06-2.06.94zm-11 1L8.5 8.5l.94-2.06 2.06-.94-2.06-.94L8.5 2.5l-.94 2.06-2.06.94zm10 10l.94 2.06.94-2.06 2.06-.94-2.06-.94-.94-2.06-.94 2.06-2.06.94z\"/><path d=\"M17.41 7.96l-1.37-1.37c-.4-.4-.92-.59-1.43-.59-.52 0-1.04.2-1.43.59L10.3 9.45l-7.72 7.72c-.78.78-.78 2.05 0 2.83L4 21.41c.39.39.9.59 1.41.59.51 0 1.02-.2 1.41-.59l7.78-7.78 2.81-2.81c.8-.78.8-2.07 0-2.86zM5.41 20L4 18.59l7.72-7.72 1.47 1.35L5.41 20z\"/>\n",
              "  </svg>\n",
              "      </button>\n",
              "      \n",
              "  <style>\n",
              "    .colab-df-container {\n",
              "      display:flex;\n",
              "      flex-wrap:wrap;\n",
              "      gap: 12px;\n",
              "    }\n",
              "\n",
              "    .colab-df-convert {\n",
              "      background-color: #E8F0FE;\n",
              "      border: none;\n",
              "      border-radius: 50%;\n",
              "      cursor: pointer;\n",
              "      display: none;\n",
              "      fill: #1967D2;\n",
              "      height: 32px;\n",
              "      padding: 0 0 0 0;\n",
              "      width: 32px;\n",
              "    }\n",
              "\n",
              "    .colab-df-convert:hover {\n",
              "      background-color: #E2EBFA;\n",
              "      box-shadow: 0px 1px 2px rgba(60, 64, 67, 0.3), 0px 1px 3px 1px rgba(60, 64, 67, 0.15);\n",
              "      fill: #174EA6;\n",
              "    }\n",
              "\n",
              "    [theme=dark] .colab-df-convert {\n",
              "      background-color: #3B4455;\n",
              "      fill: #D2E3FC;\n",
              "    }\n",
              "\n",
              "    [theme=dark] .colab-df-convert:hover {\n",
              "      background-color: #434B5C;\n",
              "      box-shadow: 0px 1px 3px 1px rgba(0, 0, 0, 0.15);\n",
              "      filter: drop-shadow(0px 1px 2px rgba(0, 0, 0, 0.3));\n",
              "      fill: #FFFFFF;\n",
              "    }\n",
              "  </style>\n",
              "\n",
              "      <script>\n",
              "        const buttonEl =\n",
              "          document.querySelector('#df-24bcd1dc-e076-49e5-bcab-60f66e9dadca button.colab-df-convert');\n",
              "        buttonEl.style.display =\n",
              "          google.colab.kernel.accessAllowed ? 'block' : 'none';\n",
              "\n",
              "        async function convertToInteractive(key) {\n",
              "          const element = document.querySelector('#df-24bcd1dc-e076-49e5-bcab-60f66e9dadca');\n",
              "          const dataTable =\n",
              "            await google.colab.kernel.invokeFunction('convertToInteractive',\n",
              "                                                     [key], {});\n",
              "          if (!dataTable) return;\n",
              "\n",
              "          const docLinkHtml = 'Like what you see? Visit the ' +\n",
              "            '<a target=\"_blank\" href=https://colab.research.google.com/notebooks/data_table.ipynb>data table notebook</a>'\n",
              "            + ' to learn more about interactive tables.';\n",
              "          element.innerHTML = '';\n",
              "          dataTable['output_type'] = 'display_data';\n",
              "          await google.colab.output.renderOutput(dataTable, element);\n",
              "          const docLink = document.createElement('div');\n",
              "          docLink.innerHTML = docLinkHtml;\n",
              "          element.appendChild(docLink);\n",
              "        }\n",
              "      </script>\n",
              "    </div>\n",
              "  </div>\n",
              "  "
            ],
            "text/plain": [
              "                  count        mean        std  ...     50%     75%    max\n",
              "age              3189.0   49.423957   8.556235  ...   49.00   56.00   70.0\n",
              "cigsPerDay       3189.0    9.098150  11.864621  ...    0.00   20.00   70.0\n",
              "BPMeds           3189.0    0.029476   0.169164  ...    0.00    0.00    1.0\n",
              "prevalentStroke  3189.0    0.005958   0.076970  ...    0.00    0.00    1.0\n",
              "prevalentHyp     3189.0    0.313264   0.463894  ...    0.00    1.00    1.0\n",
              "diabetes         3189.0    0.025400   0.157361  ...    0.00    0.00    1.0\n",
              "totChol          3189.0  236.968642  44.537998  ...  234.00  264.00  600.0\n",
              "sysBP            3189.0  132.436344  22.176848  ...  128.00  143.50  295.0\n",
              "diaBP            3189.0   82.841173  11.993650  ...   82.00   89.50  142.5\n",
              "BMI              3189.0   25.774569   4.132848  ...   25.37   27.99   56.8\n",
              "heartRate        3189.0   76.034180  12.056788  ...   75.00   83.00  143.0\n",
              "glucose          3189.0   81.751019  23.217011  ...   79.00   85.00  394.0\n",
              "TenYearCHD       3189.0    0.148950   0.356095  ...    0.00    0.00    1.0\n",
              "\n",
              "[13 rows x 8 columns]"
            ]
          },
          "metadata": {},
          "execution_count": 493
        }
      ]
    },
    {
      "cell_type": "markdown",
      "source": [
        "From statistical overview of the dataset, we infer that some data features are binary, whereas other features are continuous. Further, the minimum and maximum values for some features, notably for 'totChol' and 'sysBP'. This suggests the presence of outliers in the data."
      ],
      "metadata": {
        "id": "3ZnAX-9DOIBp"
      }
    },
    {
      "cell_type": "markdown",
      "source": [
        "### **Checking Outliers**"
      ],
      "metadata": {
        "id": "0A7CwU5RY7cg"
      }
    },
    {
      "cell_type": "code",
      "source": [
        "plt.figure(figsize=(20,9))\n",
        "sns.boxplot(data= new_df)\n",
        "plt.show()"
      ],
      "metadata": {
        "colab": {
          "base_uri": "https://localhost:8080/",
          "height": 537
        },
        "id": "sGXKDldNY7Jv",
        "outputId": "6da0655b-c1ad-44dd-a300-e0327d3813de"
      },
      "execution_count": 494,
      "outputs": [
        {
          "output_type": "display_data",
          "data": {
            "image/png": "[encoded data removed]",
            "text/plain": [
              "<Figure size 1440x648 with 1 Axes>"
            ]
          },
          "metadata": {
            "needs_background": "light"
          }
        }
      ]
    },
    {
      "cell_type": "markdown",
      "source": [
        "We can see there are outliers in some features but it can be normal for these features to have high values and they will be usefull. We will drop extreme outliers from some of the columns."
      ],
      "metadata": {
        "id": "eqPzWJCYikJa"
      }
    },
    {
      "cell_type": "code",
      "source": [
        "# droping outliers from totChol column above 500\n",
        "new_df= new_df.drop(new_df[new_df['totChol']>500].index)"
      ],
      "metadata": {
        "id": "hM3OYZQFijoP"
      },
      "execution_count": 495,
      "outputs": []
    },
    {
      "cell_type": "code",
      "source": [
        "# droping outliers from sysBP column above 250\n",
        "new_df=new_df.drop(new_df[new_df['sysBP']==250].index)"
      ],
      "metadata": {
        "id": "2GF2nI-dkdTG"
      },
      "execution_count": 496,
      "outputs": []
    },
    {
      "cell_type": "markdown",
      "source": [
        "# **Exploratory Data Analysis**"
      ],
      "metadata": {
        "id": "rBstHekSVBOo"
      }
    },
    {
      "cell_type": "code",
      "source": [
        "cont_var= ['age','cigsPerDay','totChol','sysBP','diaBP','BMI','heartRate','glucose']\n",
        "cat_var= ['gender','is_smoking']\n",
        "bin_var= ['BPMeds','prevalentStroke','prevalentHyp','diabetes']\n",
        "target= 'TenYearCHD'"
      ],
      "metadata": {
        "id": "kWuSXuzLM_dC"
      },
      "execution_count": 497,
      "outputs": []
    },
    {
      "cell_type": "markdown",
      "source": [
        "### **Independent Variables**"
      ],
      "metadata": {
        "id": "9X27toTCqb9u"
      }
    },
    {
      "cell_type": "code",
      "source": [
        "# check distribution\n",
        "def check_dist(df):\n",
        "    l = df.columns.values\n",
        "    number_of_columns=(len(l))/2\n",
        "    number_of_rows = 2\n",
        "    \n",
        "    plt.figure(figsize=(4*number_of_columns,8*number_of_rows))\n",
        "    for i in range(1,len(l)+1):\n",
        "        plt.subplot(number_of_rows+1,number_of_columns,i)\n",
        "        sns.distplot(df[l[i-1]],kde=True) \n",
        "        plt.tight_layout()\n",
        "        \n",
        "check_dist(new_df[cont_var])"
      ],
      "metadata": {
        "colab": {
          "base_uri": "https://localhost:8080/",
          "height": 802
        },
        "id": "Z0gmPmqALDbH",
        "outputId": "a0a86dc7-86c4-4323-97ad-f86475ff142e"
      },
      "execution_count": 498,
      "outputs": [
        {
          "output_type": "display_data",
          "data": {
            "image/png": "[encoded data removed]",
            "text/plain": [
              "<Figure size 1152x1152 with 8 Axes>"
            ]
          },
          "metadata": {
            "needs_background": "light"
          }
        }
      ]
    },
    {
      "cell_type": "markdown",
      "source": [
        "## **Bivariate Analysis**"
      ],
      "metadata": {
        "id": "Xj2Ir2stK-gM"
      }
    },
    {
      "cell_type": "markdown",
      "source": [
        "### **Categorical Variables**"
      ],
      "metadata": {
        "id": "Bpsy3vkhl8OM"
      }
    },
    {
      "cell_type": "code",
      "source": [
        "# which gender has most risk of CHD\n",
        "fig, ax = plt.subplots(figsize=(8,5))\n",
        "\n",
        "ax = sns.barplot(x='gender',y='TenYearCHD', data=new_df, palette='Set2')\n",
        "ax.set_title(\"Gender Distribution of patients at risk\")\n",
        "plt.show()"
      ],
      "metadata": {
        "colab": {
          "base_uri": "https://localhost:8080/",
          "height": 350
        },
        "id": "2su3pw2VsEIw",
        "outputId": "66a15a78-d462-4707-b6ba-7922b0d9476b"
      },
      "execution_count": 499,
      "outputs": [
        {
          "output_type": "display_data",
          "data": {
            "image/png": "[encoded data removed]",
            "text/plain": [
              "<Figure size 576x360 with 1 Axes>"
            ]
          },
          "metadata": {
            "needs_background": "light"
          }
        }
      ]
    },
    {
      "cell_type": "markdown",
      "source": [
        "According to this dataset, males have shown a slightly higher risk of coronary heart disease."
      ],
      "metadata": {
        "id": "A_rixDOus2n6"
      }
    },
    {
      "cell_type": "code",
      "source": [
        "# Does smokers have risk of CHD\n",
        "fig, ax = plt.subplots(figsize=(8,5))\n",
        "ax = sns.barplot(x='is_smoking',y='TenYearCHD', data=new_df, palette='Set2')\n",
        "ax.set_title(\"Current smokers v/s CHD\")\n",
        "plt.show()"
      ],
      "metadata": {
        "colab": {
          "base_uri": "https://localhost:8080/",
          "height": 351
        },
        "id": "YZNLYn9VYRV1",
        "outputId": "afd83c55-72ff-4a4d-c082-c48edf3097bd"
      },
      "execution_count": 500,
      "outputs": [
        {
          "output_type": "display_data",
          "data": {
            "image/png": "[encoded data removed]",
            "text/plain": [
              "<Figure size 576x360 with 1 Axes>"
            ]
          },
          "metadata": {
            "needs_background": "light"
          }
        }
      ]
    },
    {
      "cell_type": "markdown",
      "source": [
        "Current smokers have high risk of contracting coronary heart disease than non smokers."
      ],
      "metadata": {
        "id": "qpyi0VuFqzBg"
      }
    },
    {
      "cell_type": "code",
      "source": [
        "# Distribution of smokers according to gender over TenYearCHD\n",
        "\n",
        "sns.catplot(x=\"gender\", hue=\"TenYearCHD\", col=\"is_smoking\",\n",
        "                data=new_df, kind=\"count\", height=4, aspect=.7)\n",
        "plt.show()"
      ],
      "metadata": {
        "colab": {
          "base_uri": "https://localhost:8080/",
          "height": 297
        },
        "id": "lQN6AeCFg8ia",
        "outputId": "d12506cb-aa70-4f44-a26e-6f3c20d04511"
      },
      "execution_count": 501,
      "outputs": [
        {
          "output_type": "display_data",
          "data": {
            "image/png": "[encoded data removed]",
            "text/plain": [
              "<Figure size 471.075x288 with 2 Axes>"
            ]
          },
          "metadata": {
            "needs_background": "light"
          }
        }
      ]
    },
    {
      "cell_type": "markdown",
      "source": [
        "There are more male smokers than females. Thus, male have higher risk of contracting coronary heart diease."
      ],
      "metadata": {
        "id": "tRSCvnXikoxy"
      }
    },
    {
      "cell_type": "markdown",
      "source": [
        "**Continuous Variables**"
      ],
      "metadata": {
        "id": "_ydNR-IDqazM"
      }
    },
    {
      "cell_type": "code",
      "source": [
        "# Which continuous variables are risk factors\n",
        "l = cont_var\n",
        "number_of_columns=(len(l)-1)/2\n",
        "number_of_rows = 2\n",
        "\n",
        "plt.figure(figsize=(8*number_of_columns,6*number_of_rows))\n",
        "for i in range(1,len(l)):\n",
        "    plt.subplot(number_of_rows+1,number_of_columns,i)\n",
        "    fig = sns.kdeplot(new_df[l[i]][new_df['TenYearCHD'] == 0], shade=True, color=\"r\", label='No risk')\n",
        "    fig = sns.kdeplot(new_df[l[i]][new_df['TenYearCHD'] == 1], shade=True, color=\"b\",label='At risk')\n",
        "    plt.legend()\n",
        "    plt.tight_layout()"
      ],
      "metadata": {
        "colab": {
          "base_uri": "https://localhost:8080/",
          "height": 620
        },
        "id": "Q8j7S5uV2cxa",
        "outputId": "21ac811b-b721-4cab-b8c2-36411bec0599"
      },
      "execution_count": 502,
      "outputs": [
        {
          "output_type": "display_data",
          "data": {
            "image/png": "[encoded data removed]",
            "text/plain": [
              "<Figure size 2016x864 with 7 Axes>"
            ]
          },
          "metadata": {
            "needs_background": "light"
          }
        }
      ]
    },
    {
      "cell_type": "markdown",
      "source": [
        "There is no direct correlation of coronary heart disease with the cholestrol, BMI, heartrate and glucose.\n",
        "\n",
        "Patients having higher systolic pressure tends to have high risk of Coronary heart disease."
      ],
      "metadata": {
        "id": "kLx2dAAP-b8v"
      }
    },
    {
      "cell_type": "code",
      "source": [
        "# which age has most risk\n",
        "temp1_df= new_df.groupby(\"age\", as_index=False).TenYearCHD.mean()\n",
        "\n",
        "fig, ax = plt.subplots(figsize=(15,9))\n",
        "ax = sns.barplot(x='age', y='TenYearCHD', data=temp1_df, palette='Set2')\n",
        "ax.set_title(\"Age Distribution according to TenYearCHD\")\n",
        "plt.show()"
      ],
      "metadata": {
        "colab": {
          "base_uri": "https://localhost:8080/",
          "height": 567
        },
        "id": "8VklMFm70iNG",
        "outputId": "6a83630e-23be-460b-a45b-4d309806df38"
      },
      "execution_count": 503,
      "outputs": [
        {
          "output_type": "display_data",
          "data": {
            "image/png": "[encoded data removed]",
            "text/plain": [
              "<Figure size 1080x648 with 1 Axes>"
            ]
          },
          "metadata": {
            "needs_background": "light"
          }
        }
      ]
    },
    {
      "cell_type": "markdown",
      "source": [
        "The average of diseased patients increases with increasing age. The peoples of age above 55 have high risk of contracting disease and the risk increases with age."
      ],
      "metadata": {
        "id": "jEaUVo2YpZDF"
      }
    },
    {
      "cell_type": "code",
      "source": [
        "# Distribution of sysBP and diaBP over age in relation to gender\n",
        "plt.subplots(figsize=(12, 9))\n",
        "\n",
        "plt.subplot(2,1,1)\n",
        "sns.lineplot(data=new_df, x=\"age\", y='sysBP', hue=\"gender\")\n",
        "plt.title(\"Distribution of sysBP over age\")\n",
        "\n",
        "plt.subplot(2,1,2)\n",
        "sns.lineplot(data=new_df, x=\"age\", y='diaBP', hue=\"gender\")\n",
        "plt.title(\"Distribution of diaBP over age\")\n",
        "\n",
        "plt.show()"
      ],
      "metadata": {
        "colab": {
          "base_uri": "https://localhost:8080/",
          "height": 567
        },
        "id": "AdKXEJy-pM0m",
        "outputId": "8c3f8198-bc50-4123-f0e4-51eaaf9bbfa1"
      },
      "execution_count": 504,
      "outputs": [
        {
          "output_type": "display_data",
          "data": {
            "image/png": "[encoded data removed]",
            "text/plain": [
              "<Figure size 864x648 with 2 Axes>"
            ]
          },
          "metadata": {
            "needs_background": "light"
          }
        }
      ]
    },
    {
      "cell_type": "markdown",
      "source": [
        "Womens of above 50 age have higher systolic BP as compared to men thus increasing risk of disease."
      ],
      "metadata": {
        "id": "V5YYnm7UrYDn"
      }
    },
    {
      "cell_type": "markdown",
      "source": [
        "**Binary Variables**"
      ],
      "metadata": {
        "id": "fIjRmBtDq2R2"
      }
    },
    {
      "cell_type": "code",
      "source": [
        "# Risk of CHD to a patient on BP medication\n",
        "bp_df= new_df.groupby(['BPMeds', 'TenYearCHD']).size().reset_index().pivot(\n",
        "                            columns='BPMeds', index='TenYearCHD', values=0)\n",
        "\n",
        "colors = ['grey', 'dodgerblue']\n",
        "bp_df.plot(kind='pie', subplots=True, figsize=(10,6), colors=colors,\n",
        "           autopct='%.2f%%', explode=[0.1,0], legend=False)\n",
        "\n",
        "plt.suptitle(\"Distribution of CHD according to BPMeds\")\n",
        "plt.tight_layout()\n",
        "plt.show()"
      ],
      "metadata": {
        "colab": {
          "base_uri": "https://localhost:8080/",
          "height": 403
        },
        "id": "_3EHOZ_ow481",
        "outputId": "c163fea1-2a21-4218-9097-24fc2d4d5f82"
      },
      "execution_count": 505,
      "outputs": [
        {
          "output_type": "display_data",
          "data": {
            "image/png": "[encoded data removed]",
            "text/plain": [
              "<Figure size 720x432 with 2 Axes>"
            ]
          },
          "metadata": {}
        }
      ]
    },
    {
      "cell_type": "markdown",
      "source": [
        "The risk of getting Coronary Heart Disease for a patient on BP medication is 34% whereas, a patient having no BP medication has only 14% of risk."
      ],
      "metadata": {
        "id": "xx73OVnrPpgI"
      }
    },
    {
      "cell_type": "code",
      "source": [
        "# Risk of CHD to a patient having hypertension\n",
        "prevstroke_df= new_df.groupby(['prevalentHyp', 'TenYearCHD']).size().reset_index().pivot(\n",
        "                                    columns='prevalentHyp', index='TenYearCHD', values=0)\n",
        "\n",
        "prevstroke_df.plot(kind='pie', subplots=True, figsize=(10,6), colors=colors,\n",
        "                  autopct='%.2f%%', explode=[0.1,0], legend=False)\n",
        "\n",
        "plt.suptitle(\"Distribution of CHD according to prevalentHyp\")\n",
        "plt.tight_layout()\n",
        "plt.show()"
      ],
      "metadata": {
        "colab": {
          "base_uri": "https://localhost:8080/",
          "height": 403
        },
        "id": "mMy41oRJ1DRb",
        "outputId": "0c2f3b55-fd71-4696-9723-e0b3e59cf708"
      },
      "execution_count": 506,
      "outputs": [
        {
          "output_type": "display_data",
          "data": {
            "image/png": "[encoded data removed]",
            "text/plain": [
              "<Figure size 720x432 with 2 Axes>"
            ]
          },
          "metadata": {}
        }
      ]
    },
    {
      "cell_type": "markdown",
      "source": [
        "If a patient is hypertensive then the risk of contracting Coronary Heart Disease is 37% whereas, a patient with no hypertension has only 10% of risk."
      ],
      "metadata": {
        "id": "e45HU_1vhAOT"
      }
    },
    {
      "cell_type": "code",
      "source": [
        "# Risk of CHD to a diabetic patient \n",
        "diabetes_df= new_df.groupby(['diabetes', 'TenYearCHD']).size().reset_index().pivot(\n",
        "                                    columns='diabetes', index='TenYearCHD', values=0)\n",
        "\n",
        "diabetes_df.plot(kind='pie', subplots=True, figsize=(10,6), colors=colors,\n",
        "                autopct='%.2f%%', explode=[0.1,0], legend=False)\n",
        "\n",
        "plt.suptitle(\"Distribution of CHD according to diabetes\")\n",
        "plt.tight_layout()\n",
        "plt.show()"
      ],
      "metadata": {
        "colab": {
          "base_uri": "https://localhost:8080/",
          "height": 403
        },
        "id": "30-UbVjLSwcL",
        "outputId": "1dcf2026-4ae3-497a-9d57-6f98c3294347"
      },
      "execution_count": 507,
      "outputs": [
        {
          "output_type": "display_data",
          "data": {
            "image/png": "[encoded data removed]",
            "text/plain": [
              "<Figure size 720x432 with 2 Axes>"
            ]
          },
          "metadata": {}
        }
      ]
    },
    {
      "cell_type": "markdown",
      "source": [
        "The risk of getting Coronary Heart Disease to a diabetic patient is 35% whereas, non-diabetic patient has only 14% of risk."
      ],
      "metadata": {
        "id": "gQPnFP4UjpTj"
      }
    },
    {
      "cell_type": "markdown",
      "source": [
        "## **Analyzing Dependent Variable**"
      ],
      "metadata": {
        "id": "K7mJaX4gqrJI"
      }
    },
    {
      "cell_type": "code",
      "source": [
        "# Distribution of target variable\n",
        "plt.subplots(figsize=(12, 6))\n",
        "\n",
        "plt.subplot(1, 2, 1)\n",
        "sns.countplot(x=new_df[target])\n",
        "\n",
        "plt.subplot(1, 2, 2)\n",
        "new_df[target].value_counts().plot.pie(autopct='%1.2f%%', explode=[0.1,0])\n",
        "\n",
        "plt.suptitle(\"Distribution of TenYearCHD\")\n",
        "plt.show()"
      ],
      "metadata": {
        "colab": {
          "base_uri": "https://localhost:8080/",
          "height": 431
        },
        "id": "g5MuqS4LqpHY",
        "outputId": "2ebf911e-95cc-47f8-eff9-609e85cd8bbe"
      },
      "execution_count": 508,
      "outputs": [
        {
          "output_type": "display_data",
          "data": {
            "image/png": "[encoded data removed]",
            "text/plain": [
              "<Figure size 864x432 with 2 Axes>"
            ]
          },
          "metadata": {
            "needs_background": "light"
          }
        }
      ]
    },
    {
      "cell_type": "markdown",
      "source": [
        "The distribution is highly imbalanced. We can see, the count of patients at risk is very less as compared to no risk patients. This would lead to class imbalance problem while fitting our models."
      ],
      "metadata": {
        "id": "FG6ILOVlDr_n"
      }
    },
    {
      "cell_type": "markdown",
      "source": [
        "# **Feature Engineering**"
      ],
      "metadata": {
        "id": "eUqiPnRtB3R-"
      }
    },
    {
      "cell_type": "code",
      "source": [
        "new_df.head()"
      ],
      "metadata": {
        "id": "pIbg6O-D3CPn",
        "colab": {
          "base_uri": "https://localhost:8080/",
          "height": 206
        },
        "outputId": "294aebb3-d6b4-4d4f-eb0c-c95f13ba0658"
      },
      "execution_count": 509,
      "outputs": [
        {
          "output_type": "execute_result",
          "data": {
            "text/html": [
              "\n",
              "  <div id=\"df-56df03b3-110c-4148-bcb9-66153e6743aa\">\n",
              "    <div class=\"colab-df-container\">\n",
              "      <div>\n",
              "<style scoped>\n",
              "    .dataframe tbody tr th:only-of-type {\n",
              "        vertical-align: middle;\n",
              "    }\n",
              "\n",
              "    .dataframe tbody tr th {\n",
              "        vertical-align: top;\n",
              "    }\n",
              "\n",
              "    .dataframe thead th {\n",
              "        text-align: right;\n",
              "    }\n",
              "</style>\n",
              "<table border=\"1\" class=\"dataframe\">\n",
              "  <thead>\n",
              "    <tr style=\"text-align: right;\">\n",
              "      <th></th>\n",
              "      <th>age</th>\n",
              "      <th>gender</th>\n",
              "      <th>is_smoking</th>\n",
              "      <th>cigsPerDay</th>\n",
              "      <th>BPMeds</th>\n",
              "      <th>prevalentStroke</th>\n",
              "      <th>prevalentHyp</th>\n",
              "      <th>diabetes</th>\n",
              "      <th>totChol</th>\n",
              "      <th>sysBP</th>\n",
              "      <th>diaBP</th>\n",
              "      <th>BMI</th>\n",
              "      <th>heartRate</th>\n",
              "      <th>glucose</th>\n",
              "      <th>TenYearCHD</th>\n",
              "    </tr>\n",
              "  </thead>\n",
              "  <tbody>\n",
              "    <tr>\n",
              "      <th>1</th>\n",
              "      <td>36</td>\n",
              "      <td>M</td>\n",
              "      <td>NO</td>\n",
              "      <td>0</td>\n",
              "      <td>0</td>\n",
              "      <td>0</td>\n",
              "      <td>1</td>\n",
              "      <td>0</td>\n",
              "      <td>212.0</td>\n",
              "      <td>168.0</td>\n",
              "      <td>98.0</td>\n",
              "      <td>29.77</td>\n",
              "      <td>72.0</td>\n",
              "      <td>75.0</td>\n",
              "      <td>0</td>\n",
              "    </tr>\n",
              "    <tr>\n",
              "      <th>2</th>\n",
              "      <td>46</td>\n",
              "      <td>F</td>\n",
              "      <td>YES</td>\n",
              "      <td>10</td>\n",
              "      <td>0</td>\n",
              "      <td>0</td>\n",
              "      <td>0</td>\n",
              "      <td>0</td>\n",
              "      <td>250.0</td>\n",
              "      <td>116.0</td>\n",
              "      <td>71.0</td>\n",
              "      <td>20.35</td>\n",
              "      <td>88.0</td>\n",
              "      <td>94.0</td>\n",
              "      <td>0</td>\n",
              "    </tr>\n",
              "    <tr>\n",
              "      <th>3</th>\n",
              "      <td>50</td>\n",
              "      <td>M</td>\n",
              "      <td>YES</td>\n",
              "      <td>20</td>\n",
              "      <td>0</td>\n",
              "      <td>0</td>\n",
              "      <td>1</td>\n",
              "      <td>0</td>\n",
              "      <td>233.0</td>\n",
              "      <td>158.0</td>\n",
              "      <td>88.0</td>\n",
              "      <td>28.26</td>\n",
              "      <td>68.0</td>\n",
              "      <td>94.0</td>\n",
              "      <td>1</td>\n",
              "    </tr>\n",
              "    <tr>\n",
              "      <th>4</th>\n",
              "      <td>64</td>\n",
              "      <td>F</td>\n",
              "      <td>YES</td>\n",
              "      <td>30</td>\n",
              "      <td>0</td>\n",
              "      <td>0</td>\n",
              "      <td>0</td>\n",
              "      <td>0</td>\n",
              "      <td>241.0</td>\n",
              "      <td>136.5</td>\n",
              "      <td>85.0</td>\n",
              "      <td>26.42</td>\n",
              "      <td>70.0</td>\n",
              "      <td>77.0</td>\n",
              "      <td>0</td>\n",
              "    </tr>\n",
              "    <tr>\n",
              "      <th>5</th>\n",
              "      <td>61</td>\n",
              "      <td>F</td>\n",
              "      <td>NO</td>\n",
              "      <td>0</td>\n",
              "      <td>0</td>\n",
              "      <td>0</td>\n",
              "      <td>1</td>\n",
              "      <td>0</td>\n",
              "      <td>272.0</td>\n",
              "      <td>182.0</td>\n",
              "      <td>121.0</td>\n",
              "      <td>32.80</td>\n",
              "      <td>85.0</td>\n",
              "      <td>65.0</td>\n",
              "      <td>1</td>\n",
              "    </tr>\n",
              "  </tbody>\n",
              "</table>\n",
              "</div>\n",
              "      <button class=\"colab-df-convert\" onclick=\"convertToInteractive('df-56df03b3-110c-4148-bcb9-66153e6743aa')\"\n",
              "              title=\"Convert this dataframe to an interactive table.\"\n",
              "              style=\"display:none;\">\n",
              "        \n",
              "  <svg xmlns=\"http://www.w3.org/2000/svg\" height=\"24px\"viewBox=\"0 0 24 24\"\n",
              "       width=\"24px\">\n",
              "    <path d=\"M0 0h24v24H0V0z\" fill=\"none\"/>\n",
              "    <path d=\"M18.56 5.44l.94 2.06.94-2.06 2.06-.94-2.06-.94-.94-2.06-.94 2.06-2.06.94zm-11 1L8.5 8.5l.94-2.06 2.06-.94-2.06-.94L8.5 2.5l-.94 2.06-2.06.94zm10 10l.94 2.06.94-2.06 2.06-.94-2.06-.94-.94-2.06-.94 2.06-2.06.94z\"/><path d=\"M17.41 7.96l-1.37-1.37c-.4-.4-.92-.59-1.43-.59-.52 0-1.04.2-1.43.59L10.3 9.45l-7.72 7.72c-.78.78-.78 2.05 0 2.83L4 21.41c.39.39.9.59 1.41.59.51 0 1.02-.2 1.41-.59l7.78-7.78 2.81-2.81c.8-.78.8-2.07 0-2.86zM5.41 20L4 18.59l7.72-7.72 1.47 1.35L5.41 20z\"/>\n",
              "  </svg>\n",
              "      </button>\n",
              "      \n",
              "  <style>\n",
              "    .colab-df-container {\n",
              "      display:flex;\n",
              "      flex-wrap:wrap;\n",
              "      gap: 12px;\n",
              "    }\n",
              "\n",
              "    .colab-df-convert {\n",
              "      background-color: #E8F0FE;\n",
              "      border: none;\n",
              "      border-radius: 50%;\n",
              "      cursor: pointer;\n",
              "      display: none;\n",
              "      fill: #1967D2;\n",
              "      height: 32px;\n",
              "      padding: 0 0 0 0;\n",
              "      width: 32px;\n",
              "    }\n",
              "\n",
              "    .colab-df-convert:hover {\n",
              "      background-color: #E2EBFA;\n",
              "      box-shadow: 0px 1px 2px rgba(60, 64, 67, 0.3), 0px 1px 3px 1px rgba(60, 64, 67, 0.15);\n",
              "      fill: #174EA6;\n",
              "    }\n",
              "\n",
              "    [theme=dark] .colab-df-convert {\n",
              "      background-color: #3B4455;\n",
              "      fill: #D2E3FC;\n",
              "    }\n",
              "\n",
              "    [theme=dark] .colab-df-convert:hover {\n",
              "      background-color: #434B5C;\n",
              "      box-shadow: 0px 1px 3px 1px rgba(0, 0, 0, 0.15);\n",
              "      filter: drop-shadow(0px 1px 2px rgba(0, 0, 0, 0.3));\n",
              "      fill: #FFFFFF;\n",
              "    }\n",
              "  </style>\n",
              "\n",
              "      <script>\n",
              "        const buttonEl =\n",
              "          document.querySelector('#df-56df03b3-110c-4148-bcb9-66153e6743aa button.colab-df-convert');\n",
              "        buttonEl.style.display =\n",
              "          google.colab.kernel.accessAllowed ? 'block' : 'none';\n",
              "\n",
              "        async function convertToInteractive(key) {\n",
              "          const element = document.querySelector('#df-56df03b3-110c-4148-bcb9-66153e6743aa');\n",
              "          const dataTable =\n",
              "            await google.colab.kernel.invokeFunction('convertToInteractive',\n",
              "                                                     [key], {});\n",
              "          if (!dataTable) return;\n",
              "\n",
              "          const docLinkHtml = 'Like what you see? Visit the ' +\n",
              "            '<a target=\"_blank\" href=https://colab.research.google.com/notebooks/data_table.ipynb>data table notebook</a>'\n",
              "            + ' to learn more about interactive tables.';\n",
              "          element.innerHTML = '';\n",
              "          dataTable['output_type'] = 'display_data';\n",
              "          await google.colab.output.renderOutput(dataTable, element);\n",
              "          const docLink = document.createElement('div');\n",
              "          docLink.innerHTML = docLinkHtml;\n",
              "          element.appendChild(docLink);\n",
              "        }\n",
              "      </script>\n",
              "    </div>\n",
              "  </div>\n",
              "  "
            ],
            "text/plain": [
              "   age gender is_smoking  cigsPerDay  ...    BMI  heartRate  glucose  TenYearCHD\n",
              "1   36      M         NO           0  ...  29.77       72.0     75.0           0\n",
              "2   46      F        YES          10  ...  20.35       88.0     94.0           0\n",
              "3   50      M        YES          20  ...  28.26       68.0     94.0           1\n",
              "4   64      F        YES          30  ...  26.42       70.0     77.0           0\n",
              "5   61      F         NO           0  ...  32.80       85.0     65.0           1\n",
              "\n",
              "[5 rows x 15 columns]"
            ]
          },
          "metadata": {},
          "execution_count": 509
        }
      ]
    },
    {
      "cell_type": "code",
      "source": [
        "# Converting categorical data to numeric data\n",
        "new_df['gender'] = new_df['gender'].apply(lambda x: 1 if x=='M' else 0)\n",
        "new_df['is_smoking'] = new_df['is_smoking'].apply(lambda x: 1 if x=='YES' else 0)"
      ],
      "metadata": {
        "id": "_NVHurN-N4_Z"
      },
      "execution_count": 510,
      "outputs": []
    },
    {
      "cell_type": "code",
      "source": [
        "new_df.head()"
      ],
      "metadata": {
        "id": "jEQTlZBhRKea",
        "outputId": "03b0ba33-7565-4f8e-ef51-01f3e43acaa1",
        "colab": {
          "base_uri": "https://localhost:8080/",
          "height": 206
        }
      },
      "execution_count": 511,
      "outputs": [
        {
          "output_type": "execute_result",
          "data": {
            "text/html": [
              "\n",
              "  <div id=\"df-fd424511-14a2-4bbb-be3d-2df60eabda4c\">\n",
              "    <div class=\"colab-df-container\">\n",
              "      <div>\n",
              "<style scoped>\n",
              "    .dataframe tbody tr th:only-of-type {\n",
              "        vertical-align: middle;\n",
              "    }\n",
              "\n",
              "    .dataframe tbody tr th {\n",
              "        vertical-align: top;\n",
              "    }\n",
              "\n",
              "    .dataframe thead th {\n",
              "        text-align: right;\n",
              "    }\n",
              "</style>\n",
              "<table border=\"1\" class=\"dataframe\">\n",
              "  <thead>\n",
              "    <tr style=\"text-align: right;\">\n",
              "      <th></th>\n",
              "      <th>age</th>\n",
              "      <th>gender</th>\n",
              "      <th>is_smoking</th>\n",
              "      <th>cigsPerDay</th>\n",
              "      <th>BPMeds</th>\n",
              "      <th>prevalentStroke</th>\n",
              "      <th>prevalentHyp</th>\n",
              "      <th>diabetes</th>\n",
              "      <th>totChol</th>\n",
              "      <th>sysBP</th>\n",
              "      <th>diaBP</th>\n",
              "      <th>BMI</th>\n",
              "      <th>heartRate</th>\n",
              "      <th>glucose</th>\n",
              "      <th>TenYearCHD</th>\n",
              "    </tr>\n",
              "  </thead>\n",
              "  <tbody>\n",
              "    <tr>\n",
              "      <th>1</th>\n",
              "      <td>36</td>\n",
              "      <td>1</td>\n",
              "      <td>0</td>\n",
              "      <td>0</td>\n",
              "      <td>0</td>\n",
              "      <td>0</td>\n",
              "      <td>1</td>\n",
              "      <td>0</td>\n",
              "      <td>212.0</td>\n",
              "      <td>168.0</td>\n",
              "      <td>98.0</td>\n",
              "      <td>29.77</td>\n",
              "      <td>72.0</td>\n",
              "      <td>75.0</td>\n",
              "      <td>0</td>\n",
              "    </tr>\n",
              "    <tr>\n",
              "      <th>2</th>\n",
              "      <td>46</td>\n",
              "      <td>0</td>\n",
              "      <td>1</td>\n",
              "      <td>10</td>\n",
              "      <td>0</td>\n",
              "      <td>0</td>\n",
              "      <td>0</td>\n",
              "      <td>0</td>\n",
              "      <td>250.0</td>\n",
              "      <td>116.0</td>\n",
              "      <td>71.0</td>\n",
              "      <td>20.35</td>\n",
              "      <td>88.0</td>\n",
              "      <td>94.0</td>\n",
              "      <td>0</td>\n",
              "    </tr>\n",
              "    <tr>\n",
              "      <th>3</th>\n",
              "      <td>50</td>\n",
              "      <td>1</td>\n",
              "      <td>1</td>\n",
              "      <td>20</td>\n",
              "      <td>0</td>\n",
              "      <td>0</td>\n",
              "      <td>1</td>\n",
              "      <td>0</td>\n",
              "      <td>233.0</td>\n",
              "      <td>158.0</td>\n",
              "      <td>88.0</td>\n",
              "      <td>28.26</td>\n",
              "      <td>68.0</td>\n",
              "      <td>94.0</td>\n",
              "      <td>1</td>\n",
              "    </tr>\n",
              "    <tr>\n",
              "      <th>4</th>\n",
              "      <td>64</td>\n",
              "      <td>0</td>\n",
              "      <td>1</td>\n",
              "      <td>30</td>\n",
              "      <td>0</td>\n",
              "      <td>0</td>\n",
              "      <td>0</td>\n",
              "      <td>0</td>\n",
              "      <td>241.0</td>\n",
              "      <td>136.5</td>\n",
              "      <td>85.0</td>\n",
              "      <td>26.42</td>\n",
              "      <td>70.0</td>\n",
              "      <td>77.0</td>\n",
              "      <td>0</td>\n",
              "    </tr>\n",
              "    <tr>\n",
              "      <th>5</th>\n",
              "      <td>61</td>\n",
              "      <td>0</td>\n",
              "      <td>0</td>\n",
              "      <td>0</td>\n",
              "      <td>0</td>\n",
              "      <td>0</td>\n",
              "      <td>1</td>\n",
              "      <td>0</td>\n",
              "      <td>272.0</td>\n",
              "      <td>182.0</td>\n",
              "      <td>121.0</td>\n",
              "      <td>32.80</td>\n",
              "      <td>85.0</td>\n",
              "      <td>65.0</td>\n",
              "      <td>1</td>\n",
              "    </tr>\n",
              "  </tbody>\n",
              "</table>\n",
              "</div>\n",
              "      <button class=\"colab-df-convert\" onclick=\"convertToInteractive('df-fd424511-14a2-4bbb-be3d-2df60eabda4c')\"\n",
              "              title=\"Convert this dataframe to an interactive table.\"\n",
              "              style=\"display:none;\">\n",
              "        \n",
              "  <svg xmlns=\"http://www.w3.org/2000/svg\" height=\"24px\"viewBox=\"0 0 24 24\"\n",
              "       width=\"24px\">\n",
              "    <path d=\"M0 0h24v24H0V0z\" fill=\"none\"/>\n",
              "    <path d=\"M18.56 5.44l.94 2.06.94-2.06 2.06-.94-2.06-.94-.94-2.06-.94 2.06-2.06.94zm-11 1L8.5 8.5l.94-2.06 2.06-.94-2.06-.94L8.5 2.5l-.94 2.06-2.06.94zm10 10l.94 2.06.94-2.06 2.06-.94-2.06-.94-.94-2.06-.94 2.06-2.06.94z\"/><path d=\"M17.41 7.96l-1.37-1.37c-.4-.4-.92-.59-1.43-.59-.52 0-1.04.2-1.43.59L10.3 9.45l-7.72 7.72c-.78.78-.78 2.05 0 2.83L4 21.41c.39.39.9.59 1.41.59.51 0 1.02-.2 1.41-.59l7.78-7.78 2.81-2.81c.8-.78.8-2.07 0-2.86zM5.41 20L4 18.59l7.72-7.72 1.47 1.35L5.41 20z\"/>\n",
              "  </svg>\n",
              "      </button>\n",
              "      \n",
              "  <style>\n",
              "    .colab-df-container {\n",
              "      display:flex;\n",
              "      flex-wrap:wrap;\n",
              "      gap: 12px;\n",
              "    }\n",
              "\n",
              "    .colab-df-convert {\n",
              "      background-color: #E8F0FE;\n",
              "      border: none;\n",
              "      border-radius: 50%;\n",
              "      cursor: pointer;\n",
              "      display: none;\n",
              "      fill: #1967D2;\n",
              "      height: 32px;\n",
              "      padding: 0 0 0 0;\n",
              "      width: 32px;\n",
              "    }\n",
              "\n",
              "    .colab-df-convert:hover {\n",
              "      background-color: #E2EBFA;\n",
              "      box-shadow: 0px 1px 2px rgba(60, 64, 67, 0.3), 0px 1px 3px 1px rgba(60, 64, 67, 0.15);\n",
              "      fill: #174EA6;\n",
              "    }\n",
              "\n",
              "    [theme=dark] .colab-df-convert {\n",
              "      background-color: #3B4455;\n",
              "      fill: #D2E3FC;\n",
              "    }\n",
              "\n",
              "    [theme=dark] .colab-df-convert:hover {\n",
              "      background-color: #434B5C;\n",
              "      box-shadow: 0px 1px 3px 1px rgba(0, 0, 0, 0.15);\n",
              "      filter: drop-shadow(0px 1px 2px rgba(0, 0, 0, 0.3));\n",
              "      fill: #FFFFFF;\n",
              "    }\n",
              "  </style>\n",
              "\n",
              "      <script>\n",
              "        const buttonEl =\n",
              "          document.querySelector('#df-fd424511-14a2-4bbb-be3d-2df60eabda4c button.colab-df-convert');\n",
              "        buttonEl.style.display =\n",
              "          google.colab.kernel.accessAllowed ? 'block' : 'none';\n",
              "\n",
              "        async function convertToInteractive(key) {\n",
              "          const element = document.querySelector('#df-fd424511-14a2-4bbb-be3d-2df60eabda4c');\n",
              "          const dataTable =\n",
              "            await google.colab.kernel.invokeFunction('convertToInteractive',\n",
              "                                                     [key], {});\n",
              "          if (!dataTable) return;\n",
              "\n",
              "          const docLinkHtml = 'Like what you see? Visit the ' +\n",
              "            '<a target=\"_blank\" href=https://colab.research.google.com/notebooks/data_table.ipynb>data table notebook</a>'\n",
              "            + ' to learn more about interactive tables.';\n",
              "          element.innerHTML = '';\n",
              "          dataTable['output_type'] = 'display_data';\n",
              "          await google.colab.output.renderOutput(dataTable, element);\n",
              "          const docLink = document.createElement('div');\n",
              "          docLink.innerHTML = docLinkHtml;\n",
              "          element.appendChild(docLink);\n",
              "        }\n",
              "      </script>\n",
              "    </div>\n",
              "  </div>\n",
              "  "
            ],
            "text/plain": [
              "   age  gender  is_smoking  cigsPerDay  ...    BMI  heartRate  glucose  TenYearCHD\n",
              "1   36       1           0           0  ...  29.77       72.0     75.0           0\n",
              "2   46       0           1          10  ...  20.35       88.0     94.0           0\n",
              "3   50       1           1          20  ...  28.26       68.0     94.0           1\n",
              "4   64       0           1          30  ...  26.42       70.0     77.0           0\n",
              "5   61       0           0           0  ...  32.80       85.0     65.0           1\n",
              "\n",
              "[5 rows x 15 columns]"
            ]
          },
          "metadata": {},
          "execution_count": 511
        }
      ]
    },
    {
      "cell_type": "markdown",
      "source": [
        "## **Feature Selection**\n",
        "\n",
        "Feature selection is a way of selecting the subset of the most relevant features from the original features set by removing the redundant, irrelevant, or noisy features."
      ],
      "metadata": {
        "id": "wytTkS3FSqVj"
      }
    },
    {
      "cell_type": "markdown",
      "source": [
        "**SelectKBest method to select top 11 most important features**"
      ],
      "metadata": {
        "id": "UaGZmkbZrIZg"
      }
    },
    {
      "cell_type": "code",
      "source": [
        "# spliting features and target variable]\n",
        "X = new_df.drop(\"TenYearCHD\", axis=1)\n",
        "y = new_df[\"TenYearCHD\"]"
      ],
      "metadata": {
        "id": "-wPjuvRQoB9E"
      },
      "execution_count": 512,
      "outputs": []
    },
    {
      "cell_type": "code",
      "source": [
        "from sklearn.feature_selection import SelectKBest, chi2"
      ],
      "metadata": {
        "id": "XjgR9x5_RMWv"
      },
      "execution_count": 513,
      "outputs": []
    },
    {
      "cell_type": "code",
      "source": [
        "selector = SelectKBest(chi2, k=11)\n",
        "best_fit = selector.fit(X,y)\n",
        "best_features = list(X.columns[selector.get_support(indices=True)])\n",
        "print(best_features)"
      ],
      "metadata": {
        "colab": {
          "base_uri": "https://localhost:8080/"
        },
        "id": "H5jxp0WZrFKd",
        "outputId": "e7a3d8d4-b352-48c4-f420-7cea5bb44fb8"
      },
      "execution_count": 514,
      "outputs": [
        {
          "output_type": "stream",
          "name": "stdout",
          "text": [
            "['age', 'gender', 'cigsPerDay', 'BPMeds', 'prevalentHyp', 'diabetes', 'totChol', 'sysBP', 'diaBP', 'BMI', 'glucose']\n"
          ]
        }
      ]
    },
    {
      "cell_type": "code",
      "source": [
        "scores_df = pd.DataFrame(columns=['feature','score'])\n",
        "scores_df['feature'] = X.columns\n",
        "scores_df['score'] = best_fit.scores_\n",
        "print(scores_df.nlargest(11,'score'))"
      ],
      "metadata": {
        "colab": {
          "base_uri": "https://localhost:8080/"
        },
        "id": "sTBruMsHtiyZ",
        "outputId": "92f43437-8b06-47da-c7b1-33fca1be5cdc"
      },
      "execution_count": 515,
      "outputs": [
        {
          "output_type": "stream",
          "name": "stdout",
          "text": [
            "         feature       score\n",
            "9          sysBP  521.933916\n",
            "13       glucose  334.137969\n",
            "0            age  249.893139\n",
            "3     cigsPerDay  212.365723\n",
            "8        totChol  209.509164\n",
            "10         diaBP  102.768688\n",
            "6   prevalentHyp   58.025067\n",
            "4         BPMeds   27.303304\n",
            "7       diabetes   25.615405\n",
            "1         gender   12.467195\n",
            "11           BMI   10.080137\n"
          ]
        }
      ]
    },
    {
      "cell_type": "code",
      "source": [
        "# # visualizing feature selection\n",
        "scores_df=scores_df.sort_values(by=\"score\", ascending=False)\n",
        "plt.figure(figsize=(20,9), facecolor='w')\n",
        "sns.barplot(x='feature',y='score',data=scores_df,palette='viridis')\n",
        "plt.title(\"Plot showing Best Features\", size=20)\n",
        "plt.show()"
      ],
      "metadata": {
        "colab": {
          "base_uri": "https://localhost:8080/",
          "height": 573
        },
        "id": "eyoQ_wQkxonI",
        "outputId": "fe9800b5-a830-476a-c097-d6f3d6f92400"
      },
      "execution_count": 516,
      "outputs": [
        {
          "output_type": "display_data",
          "data": {
            "image/png": "[encoded data removed]",
            "text/plain": [
              "<Figure size 1440x648 with 1 Axes>"
            ]
          },
          "metadata": {}
        }
      ]
    },
    {
      "cell_type": "code",
      "source": [
        "print(best_features)"
      ],
      "metadata": {
        "colab": {
          "base_uri": "https://localhost:8080/"
        },
        "id": "8CczTu7Y2uEV",
        "outputId": "556396cc-40a4-485c-c1d9-c70a73ad9338"
      },
      "execution_count": 517,
      "outputs": [
        {
          "output_type": "stream",
          "name": "stdout",
          "text": [
            "['age', 'gender', 'cigsPerDay', 'BPMeds', 'prevalentHyp', 'diabetes', 'totChol', 'sysBP', 'diaBP', 'BMI', 'glucose']\n"
          ]
        }
      ]
    },
    {
      "cell_type": "markdown",
      "source": [
        "**Selecting best 11 features**"
      ],
      "metadata": {
        "id": "IvtcaumCAMfj"
      }
    },
    {
      "cell_type": "code",
      "source": [
        "new_df=new_df[['age', 'gender', 'cigsPerDay', 'BPMeds', 'prevalentHyp', 'totChol', 'sysBP','diabetes', 'diaBP', 'BMI', 'glucose', \"TenYearCHD\"]]\n",
        "new_df.head()"
      ],
      "metadata": {
        "colab": {
          "base_uri": "https://localhost:8080/",
          "height": 206
        },
        "id": "RMWq8xh8yy-P",
        "outputId": "c5b22955-908b-40ba-99a8-ae8c6b7d18aa"
      },
      "execution_count": 518,
      "outputs": [
        {
          "output_type": "execute_result",
          "data": {
            "text/html": [
              "\n",
              "  <div id=\"df-00be97a2-da4b-47be-81c9-9e06dc1c569a\">\n",
              "    <div class=\"colab-df-container\">\n",
              "      <div>\n",
              "<style scoped>\n",
              "    .dataframe tbody tr th:only-of-type {\n",
              "        vertical-align: middle;\n",
              "    }\n",
              "\n",
              "    .dataframe tbody tr th {\n",
              "        vertical-align: top;\n",
              "    }\n",
              "\n",
              "    .dataframe thead th {\n",
              "        text-align: right;\n",
              "    }\n",
              "</style>\n",
              "<table border=\"1\" class=\"dataframe\">\n",
              "  <thead>\n",
              "    <tr style=\"text-align: right;\">\n",
              "      <th></th>\n",
              "      <th>age</th>\n",
              "      <th>gender</th>\n",
              "      <th>cigsPerDay</th>\n",
              "      <th>BPMeds</th>\n",
              "      <th>prevalentHyp</th>\n",
              "      <th>totChol</th>\n",
              "      <th>sysBP</th>\n",
              "      <th>diabetes</th>\n",
              "      <th>diaBP</th>\n",
              "      <th>BMI</th>\n",
              "      <th>glucose</th>\n",
              "      <th>TenYearCHD</th>\n",
              "    </tr>\n",
              "  </thead>\n",
              "  <tbody>\n",
              "    <tr>\n",
              "      <th>1</th>\n",
              "      <td>36</td>\n",
              "      <td>1</td>\n",
              "      <td>0</td>\n",
              "      <td>0</td>\n",
              "      <td>1</td>\n",
              "      <td>212.0</td>\n",
              "      <td>168.0</td>\n",
              "      <td>0</td>\n",
              "      <td>98.0</td>\n",
              "      <td>29.77</td>\n",
              "      <td>75.0</td>\n",
              "      <td>0</td>\n",
              "    </tr>\n",
              "    <tr>\n",
              "      <th>2</th>\n",
              "      <td>46</td>\n",
              "      <td>0</td>\n",
              "      <td>10</td>\n",
              "      <td>0</td>\n",
              "      <td>0</td>\n",
              "      <td>250.0</td>\n",
              "      <td>116.0</td>\n",
              "      <td>0</td>\n",
              "      <td>71.0</td>\n",
              "      <td>20.35</td>\n",
              "      <td>94.0</td>\n",
              "      <td>0</td>\n",
              "    </tr>\n",
              "    <tr>\n",
              "      <th>3</th>\n",
              "      <td>50</td>\n",
              "      <td>1</td>\n",
              "      <td>20</td>\n",
              "      <td>0</td>\n",
              "      <td>1</td>\n",
              "      <td>233.0</td>\n",
              "      <td>158.0</td>\n",
              "      <td>0</td>\n",
              "      <td>88.0</td>\n",
              "      <td>28.26</td>\n",
              "      <td>94.0</td>\n",
              "      <td>1</td>\n",
              "    </tr>\n",
              "    <tr>\n",
              "      <th>4</th>\n",
              "      <td>64</td>\n",
              "      <td>0</td>\n",
              "      <td>30</td>\n",
              "      <td>0</td>\n",
              "      <td>0</td>\n",
              "      <td>241.0</td>\n",
              "      <td>136.5</td>\n",
              "      <td>0</td>\n",
              "      <td>85.0</td>\n",
              "      <td>26.42</td>\n",
              "      <td>77.0</td>\n",
              "      <td>0</td>\n",
              "    </tr>\n",
              "    <tr>\n",
              "      <th>5</th>\n",
              "      <td>61</td>\n",
              "      <td>0</td>\n",
              "      <td>0</td>\n",
              "      <td>0</td>\n",
              "      <td>1</td>\n",
              "      <td>272.0</td>\n",
              "      <td>182.0</td>\n",
              "      <td>0</td>\n",
              "      <td>121.0</td>\n",
              "      <td>32.80</td>\n",
              "      <td>65.0</td>\n",
              "      <td>1</td>\n",
              "    </tr>\n",
              "  </tbody>\n",
              "</table>\n",
              "</div>\n",
              "      <button class=\"colab-df-convert\" onclick=\"convertToInteractive('df-00be97a2-da4b-47be-81c9-9e06dc1c569a')\"\n",
              "              title=\"Convert this dataframe to an interactive table.\"\n",
              "              style=\"display:none;\">\n",
              "        \n",
              "  <svg xmlns=\"http://www.w3.org/2000/svg\" height=\"24px\"viewBox=\"0 0 24 24\"\n",
              "       width=\"24px\">\n",
              "    <path d=\"M0 0h24v24H0V0z\" fill=\"none\"/>\n",
              "    <path d=\"M18.56 5.44l.94 2.06.94-2.06 2.06-.94-2.06-.94-.94-2.06-.94 2.06-2.06.94zm-11 1L8.5 8.5l.94-2.06 2.06-.94-2.06-.94L8.5 2.5l-.94 2.06-2.06.94zm10 10l.94 2.06.94-2.06 2.06-.94-2.06-.94-.94-2.06-.94 2.06-2.06.94z\"/><path d=\"M17.41 7.96l-1.37-1.37c-.4-.4-.92-.59-1.43-.59-.52 0-1.04.2-1.43.59L10.3 9.45l-7.72 7.72c-.78.78-.78 2.05 0 2.83L4 21.41c.39.39.9.59 1.41.59.51 0 1.02-.2 1.41-.59l7.78-7.78 2.81-2.81c.8-.78.8-2.07 0-2.86zM5.41 20L4 18.59l7.72-7.72 1.47 1.35L5.41 20z\"/>\n",
              "  </svg>\n",
              "      </button>\n",
              "      \n",
              "  <style>\n",
              "    .colab-df-container {\n",
              "      display:flex;\n",
              "      flex-wrap:wrap;\n",
              "      gap: 12px;\n",
              "    }\n",
              "\n",
              "    .colab-df-convert {\n",
              "      background-color: #E8F0FE;\n",
              "      border: none;\n",
              "      border-radius: 50%;\n",
              "      cursor: pointer;\n",
              "      display: none;\n",
              "      fill: #1967D2;\n",
              "      height: 32px;\n",
              "      padding: 0 0 0 0;\n",
              "      width: 32px;\n",
              "    }\n",
              "\n",
              "    .colab-df-convert:hover {\n",
              "      background-color: #E2EBFA;\n",
              "      box-shadow: 0px 1px 2px rgba(60, 64, 67, 0.3), 0px 1px 3px 1px rgba(60, 64, 67, 0.15);\n",
              "      fill: #174EA6;\n",
              "    }\n",
              "\n",
              "    [theme=dark] .colab-df-convert {\n",
              "      background-color: #3B4455;\n",
              "      fill: #D2E3FC;\n",
              "    }\n",
              "\n",
              "    [theme=dark] .colab-df-convert:hover {\n",
              "      background-color: #434B5C;\n",
              "      box-shadow: 0px 1px 3px 1px rgba(0, 0, 0, 0.15);\n",
              "      filter: drop-shadow(0px 1px 2px rgba(0, 0, 0, 0.3));\n",
              "      fill: #FFFFFF;\n",
              "    }\n",
              "  </style>\n",
              "\n",
              "      <script>\n",
              "        const buttonEl =\n",
              "          document.querySelector('#df-00be97a2-da4b-47be-81c9-9e06dc1c569a button.colab-df-convert');\n",
              "        buttonEl.style.display =\n",
              "          google.colab.kernel.accessAllowed ? 'block' : 'none';\n",
              "\n",
              "        async function convertToInteractive(key) {\n",
              "          const element = document.querySelector('#df-00be97a2-da4b-47be-81c9-9e06dc1c569a');\n",
              "          const dataTable =\n",
              "            await google.colab.kernel.invokeFunction('convertToInteractive',\n",
              "                                                     [key], {});\n",
              "          if (!dataTable) return;\n",
              "\n",
              "          const docLinkHtml = 'Like what you see? Visit the ' +\n",
              "            '<a target=\"_blank\" href=https://colab.research.google.com/notebooks/data_table.ipynb>data table notebook</a>'\n",
              "            + ' to learn more about interactive tables.';\n",
              "          element.innerHTML = '';\n",
              "          dataTable['output_type'] = 'display_data';\n",
              "          await google.colab.output.renderOutput(dataTable, element);\n",
              "          const docLink = document.createElement('div');\n",
              "          docLink.innerHTML = docLinkHtml;\n",
              "          element.appendChild(docLink);\n",
              "        }\n",
              "      </script>\n",
              "    </div>\n",
              "  </div>\n",
              "  "
            ],
            "text/plain": [
              "   age  gender  cigsPerDay  BPMeds  ...  diaBP    BMI  glucose  TenYearCHD\n",
              "1   36       1           0       0  ...   98.0  29.77     75.0           0\n",
              "2   46       0          10       0  ...   71.0  20.35     94.0           0\n",
              "3   50       1          20       0  ...   88.0  28.26     94.0           1\n",
              "4   64       0          30       0  ...   85.0  26.42     77.0           0\n",
              "5   61       0           0       0  ...  121.0  32.80     65.0           1\n",
              "\n",
              "[5 rows x 12 columns]"
            ]
          },
          "metadata": {},
          "execution_count": 518
        }
      ]
    },
    {
      "cell_type": "markdown",
      "source": [
        "### **Balancing the target variable**\n",
        "\n",
        "**Let's see how unbalanced the dataset is:**"
      ],
      "metadata": {
        "id": "rg4UEu-vz2hl"
      }
    },
    {
      "cell_type": "code",
      "source": [
        "# Class count\n",
        "count_class_0, count_class_1 = new_df['TenYearCHD'].value_counts()\n",
        "\n",
        "print('Class 0:', count_class_0)\n",
        "print('Class 1:', count_class_1)\n",
        "print('Proportion:', round(count_class_0 / count_class_1, 2), ': 1')\n",
        "\n",
        "new_df['TenYearCHD'].value_counts().plot(kind='bar', title='Count (target)');"
      ],
      "metadata": {
        "colab": {
          "base_uri": "https://localhost:8080/",
          "height": 330
        },
        "outputId": "977b4597-7411-4c97-bd21-69ddf86a08b4",
        "id": "dYtxzGF9xEtN"
      },
      "execution_count": 519,
      "outputs": [
        {
          "output_type": "stream",
          "name": "stdout",
          "text": [
            "Class 0: 2714\n",
            "Class 1: 474\n",
            "Proportion: 5.73 : 1\n"
          ]
        },
        {
          "output_type": "display_data",
          "data": {
            "image/png": "[encoded data removed]",
            "text/plain": [
              "<Figure size 432x288 with 1 Axes>"
            ]
          },
          "metadata": {
            "needs_background": "light"
          }
        }
      ]
    },
    {
      "cell_type": "markdown",
      "source": [
        "Applying sampling method to deal with the imbalance problem."
      ],
      "metadata": {
        "id": "AR9fIHpkxEtO"
      }
    },
    {
      "cell_type": "code",
      "source": [
        "# Divide by class\n",
        "df_class_0 = new_df[new_df['TenYearCHD'] == 0]\n",
        "df_class_1 = new_df[new_df['TenYearCHD'] == 1]"
      ],
      "metadata": {
        "id": "jLlZwSxRxEtO"
      },
      "execution_count": 520,
      "outputs": []
    },
    {
      "cell_type": "markdown",
      "source": [
        "**Random over-sampling**"
      ],
      "metadata": {
        "id": "GTzJzOoOxEtO"
      }
    },
    {
      "cell_type": "code",
      "source": [
        "# random over sampling\n",
        "df_class_1_over = df_class_1.sample(count_class_0, replace=True)\n",
        "new_df = pd.concat([df_class_0, df_class_1_over], axis=0)"
      ],
      "metadata": {
        "id": "PqJmhWOzxEtO"
      },
      "execution_count": 521,
      "outputs": []
    },
    {
      "cell_type": "code",
      "source": [
        "print('Random over-sampling:')\n",
        "print(new_df['TenYearCHD'].value_counts())\n",
        "\n",
        "new_df['TenYearCHD'].value_counts().plot(kind='bar', title='Count (target)');"
      ],
      "metadata": {
        "colab": {
          "base_uri": "https://localhost:8080/",
          "height": 347
        },
        "outputId": "563c4a18-6e0b-4804-8e23-82e67e3504ea",
        "id": "CMdnWaqFxEtO"
      },
      "execution_count": 522,
      "outputs": [
        {
          "output_type": "stream",
          "name": "stdout",
          "text": [
            "Random over-sampling:\n",
            "0    2714\n",
            "1    2714\n",
            "Name: TenYearCHD, dtype: int64\n"
          ]
        },
        {
          "output_type": "display_data",
          "data": {
            "image/png": "[encoded data removed]",
            "text/plain": [
              "<Figure size 432x288 with 1 Axes>"
            ]
          },
          "metadata": {
            "needs_background": "light"
          }
        }
      ]
    },
    {
      "cell_type": "code",
      "source": [
        "new_df.reset_index(drop= True, inplace= True)"
      ],
      "metadata": {
        "id": "o14JBbLsxEtP"
      },
      "execution_count": 523,
      "outputs": []
    },
    {
      "cell_type": "code",
      "source": [
        "new_df.shape"
      ],
      "metadata": {
        "colab": {
          "base_uri": "https://localhost:8080/"
        },
        "outputId": "8a2857c3-9c1d-4109-9316-2b8a147997ee",
        "id": "6x2xq0pmxEtP"
      },
      "execution_count": 524,
      "outputs": [
        {
          "output_type": "execute_result",
          "data": {
            "text/plain": [
              "(5428, 12)"
            ]
          },
          "metadata": {},
          "execution_count": 524
        }
      ]
    },
    {
      "cell_type": "markdown",
      "source": [
        "## **Train Test Split and Scaling**"
      ],
      "metadata": {
        "id": "nGt_orxp1_b0"
      }
    },
    {
      "cell_type": "code",
      "source": [
        "from sklearn.model_selection import train_test_split\n",
        "from sklearn.preprocessing import MinMaxScaler"
      ],
      "metadata": {
        "id": "WbcHnrc_oXMV"
      },
      "execution_count": 525,
      "outputs": []
    },
    {
      "cell_type": "code",
      "source": [
        "X = new_df.drop(\"TenYearCHD\", axis=1)\n",
        "y = new_df['TenYearCHD']"
      ],
      "metadata": {
        "id": "VPx9zHuM7sP3"
      },
      "execution_count": 526,
      "outputs": []
    },
    {
      "cell_type": "code",
      "source": [
        "# Spliting into train and test\n",
        "X_train, X_test, y_train, y_test = train_test_split(X, y, test_size=0.25, random_state=1, stratify=y)"
      ],
      "metadata": {
        "id": "XP8x7TyhzLnL"
      },
      "execution_count": 527,
      "outputs": []
    },
    {
      "cell_type": "code",
      "source": [
        "# Scaling\n",
        "scaler = MinMaxScaler(feature_range=(0,1))\n",
        "X_train = scaler.fit_transform(X_train)\n",
        "X_test = scaler.transform(X_test)"
      ],
      "metadata": {
        "id": "Eb_BqQFiB74k"
      },
      "execution_count": 528,
      "outputs": []
    },
    {
      "cell_type": "markdown",
      "source": [
        "# **Predictive Modeling**"
      ],
      "metadata": {
        "id": "vkZmR_EvCoZp"
      }
    },
    {
      "cell_type": "markdown",
      "source": [
        "**Defining funtions**"
      ],
      "metadata": {
        "id": "AJlIEG8-SqJO"
      }
    },
    {
      "cell_type": "code",
      "source": [
        "# creating function to calculate evaluation metrics\n",
        "results = {}\n",
        "\n",
        "def evaluation_metrics(y_act, y_pred, model=None):\n",
        "  '''\n",
        "      Takes actual target values and estimated target values as input\n",
        "      and returns evaluation metrics as output\n",
        "  '''\n",
        "\n",
        "  print(\"Evaluation Metrics on test data:\")\n",
        "\n",
        "  # accuracy score\n",
        "  acc = accuracy_score(y_act, y_pred)\n",
        "  print(f\"accuracy score: {acc}\")\n",
        "\n",
        "  # precision score\n",
        "  prec = precision_score(y_act, y_pred)\n",
        "  print(f\"Precision: {prec}\")\n",
        "\n",
        "  # recall\n",
        "  recall = recall_score(y_act, y_pred)\n",
        "  print(f\"Recall: {recall}\")\n",
        "\n",
        "  # f1 score\n",
        "  f1 = f1_score(y_act, y_pred)\n",
        "  print(f\"f1 score: {f1}\")\n",
        "\n",
        "  # appending result into dictionary\n",
        "  results[model]= [acc,prec,recall,f1]"
      ],
      "metadata": {
        "id": "xh778Wq3Flal"
      },
      "execution_count": 529,
      "outputs": []
    },
    {
      "cell_type": "code",
      "source": [
        "# function to plot roc curve\n",
        "def plot_roc_curve(y_act, pred_proba):\n",
        "\n",
        "  ''' \n",
        "  This function computes and plots the receiver operating characteristic curve, or ROC curve.\n",
        "  '''\n",
        "\n",
        "  fpr, tpr, threshold = roc_curve(y_act, pred_proba)\n",
        "  roc_auc = auc(fpr, tpr)\n",
        "\n",
        "  # Printing AUC\n",
        "  print(f\"roc-auc score: {roc_auc}\")\n",
        "\n",
        "  # Plotting the ROC\n",
        "  plt.title('Receiver Operating Characteristic')\n",
        "  plt.plot(fpr, tpr, 'b', label = 'AUC = %0.2f' % roc_auc)\n",
        "  plt.legend(loc = 'lower right')\n",
        "  plt.plot([0, 1], [0, 1],'r--')\n",
        "  plt.xlim([0, 1])\n",
        "  plt.ylim([0, 1])\n",
        "  plt.ylabel('True Positive Rate')\n",
        "  plt.xlabel('False Positive Rate')\n",
        "  plt.show()"
      ],
      "metadata": {
        "id": "x1rl2nwTF4N2"
      },
      "execution_count": 530,
      "outputs": []
    },
    {
      "cell_type": "markdown",
      "source": [
        "## **K-NEAREST NEIGHBORS (K-NN)**"
      ],
      "metadata": {
        "id": "l6LiOQITUUt_"
      }
    },
    {
      "cell_type": "code",
      "source": [
        "#create parameter grid\n",
        "param_grid = {'n_neighbors': np.arange(16, 31)}"
      ],
      "metadata": {
        "id": "BDjgDuIroWJC"
      },
      "execution_count": 531,
      "outputs": []
    },
    {
      "cell_type": "code",
      "source": [
        "#create new a knn model\n",
        "knn_clf = KNeighborsClassifier()\n",
        "\n",
        "#use gridsearch to test all values for n_neighbors\n",
        "knn_gscv = GridSearchCV(knn_clf, param_grid, cv=5)\n",
        "\n",
        "#fit model to data\n",
        "knn_gscv.fit(X_train,y_train)"
      ],
      "metadata": {
        "id": "zbYAWyTaCfQO",
        "colab": {
          "base_uri": "https://localhost:8080/"
        },
        "outputId": "524267b8-37b6-448a-d142-0cab2d057e02"
      },
      "execution_count": 532,
      "outputs": [
        {
          "output_type": "execute_result",
          "data": {
            "text/plain": [
              "GridSearchCV(cv=5, estimator=KNeighborsClassifier(),\n",
              "             param_grid={'n_neighbors': array([16, 17, 18, 19, 20, 21, 22, 23, 24, 25, 26, 27, 28, 29, 30])})"
            ]
          },
          "metadata": {},
          "execution_count": 532
        }
      ]
    },
    {
      "cell_type": "code",
      "source": [
        "#checking top performing n_neighbors value\n",
        "knn_gscv.best_params_"
      ],
      "metadata": {
        "id": "Mi3PxoVAjXBZ",
        "colab": {
          "base_uri": "https://localhost:8080/"
        },
        "outputId": "962b2be3-1c70-4639-dcb8-5985b6f96306"
      },
      "execution_count": 533,
      "outputs": [
        {
          "output_type": "execute_result",
          "data": {
            "text/plain": [
              "{'n_neighbors': 17}"
            ]
          },
          "metadata": {},
          "execution_count": 533
        }
      ]
    },
    {
      "cell_type": "markdown",
      "source": [
        "We can see that 17 is the optimal value for ‘n_neighbors’."
      ],
      "metadata": {
        "id": "FZ5KyhvqqLBD"
      }
    },
    {
      "cell_type": "code",
      "source": [
        "# optimal model\n",
        "knn_optimal_model = knn_gscv.best_estimator_"
      ],
      "metadata": {
        "id": "wpIFT_JCsAyZ"
      },
      "execution_count": 534,
      "outputs": []
    },
    {
      "cell_type": "code",
      "source": [
        "# predicted classes\n",
        "train_pred_knn = knn_optimal_model.predict(X_train)\n",
        "test_pred_knn = knn_optimal_model.predict(X_test)"
      ],
      "metadata": {
        "id": "REcyOfBNTDI4"
      },
      "execution_count": 535,
      "outputs": []
    },
    {
      "cell_type": "code",
      "source": [
        "# Predicted Probability\n",
        "test_proba_knn = knn_optimal_model.predict_proba(X_test)[:,1]"
      ],
      "metadata": {
        "id": "UP_YSBD-TDI5"
      },
      "execution_count": 536,
      "outputs": []
    },
    {
      "cell_type": "code",
      "source": [
        "# train set accuracy score\n",
        "accuracy_score(y_train,train_pred_knn)"
      ],
      "metadata": {
        "colab": {
          "base_uri": "https://localhost:8080/"
        },
        "id": "jmKErdmnVSQB",
        "outputId": "28a6f11d-b3f5-4cd2-c9b0-91e143fc97fe"
      },
      "execution_count": 537,
      "outputs": [
        {
          "output_type": "execute_result",
          "data": {
            "text/plain": [
              "0.7329894374846475"
            ]
          },
          "metadata": {},
          "execution_count": 537
        }
      ]
    },
    {
      "cell_type": "markdown",
      "source": [
        "### **Model Evaluation**"
      ],
      "metadata": {
        "id": "7mA3nHBJTDI6"
      }
    },
    {
      "cell_type": "code",
      "source": [
        "# Evaluation metrics\n",
        "evaluation_metrics(y_test, test_pred_knn, \"K-NEAREST NEIGHBORS\")"
      ],
      "metadata": {
        "colab": {
          "base_uri": "https://localhost:8080/"
        },
        "outputId": "e8e5a2c5-6a07-44f1-e57f-7dde27858cac",
        "id": "4m9HNudUTDI7"
      },
      "execution_count": 538,
      "outputs": [
        {
          "output_type": "stream",
          "name": "stdout",
          "text": [
            "Evaluation Metrics on test data:\n",
            "accuracy score: 0.6904937361827561\n",
            "Precision: 0.6796116504854369\n",
            "Recall: 0.7216494845360825\n",
            "f1 score: 0.7\n"
          ]
        }
      ]
    },
    {
      "cell_type": "markdown",
      "source": [
        "**Confusion Matrix**"
      ],
      "metadata": {
        "id": "7ITuSu_aTDI7"
      }
    },
    {
      "cell_type": "code",
      "source": [
        "# visualize the confusion matrix\n",
        "plot_confusion_matrix(knn_optimal_model, X_test, y_test)\n",
        "plt.show()"
      ],
      "metadata": {
        "colab": {
          "base_uri": "https://localhost:8080/",
          "height": 279
        },
        "outputId": "67fde1f9-b010-4e02-a19f-2b9afe643848",
        "id": "SfVILzLKTDI7"
      },
      "execution_count": 539,
      "outputs": [
        {
          "output_type": "display_data",
          "data": {
            "image/png": "[encoded data removed]",
            "text/plain": [
              "<Figure size 432x288 with 2 Axes>"
            ]
          },
          "metadata": {
            "needs_background": "light"
          }
        }
      ]
    },
    {
      "cell_type": "markdown",
      "source": [
        "**AUC-ROC Curve**"
      ],
      "metadata": {
        "id": "26HszF3QTDI7"
      }
    },
    {
      "cell_type": "code",
      "source": [
        "plot_roc_curve(y_test, test_proba_knn)"
      ],
      "metadata": {
        "colab": {
          "base_uri": "https://localhost:8080/",
          "height": 312
        },
        "outputId": "c4013253-0ee9-4343-f458-a5923dcc81f3",
        "id": "GJo_VY-tTDI8"
      },
      "execution_count": 540,
      "outputs": [
        {
          "output_type": "stream",
          "name": "stdout",
          "text": [
            "roc-auc score: 0.7484631659433229\n"
          ]
        },
        {
          "output_type": "display_data",
          "data": {
            "image/png": "[encoded data removed]",
            "text/plain": [
              "<Figure size 432x288 with 1 Axes>"
            ]
          },
          "metadata": {
            "needs_background": "light"
          }
        }
      ]
    },
    {
      "cell_type": "markdown",
      "source": [
        "## **Spport Vectors Classifier (SVC)**"
      ],
      "metadata": {
        "id": "MxbdpkJF9jRt"
      }
    },
    {
      "cell_type": "code",
      "source": [
        "# create SVC model\n",
        "svc_optimal_model = SVC(probability=True)\n",
        "\n",
        "# fitting model\n",
        "svc_optimal_model.fit(X_train, y_train)"
      ],
      "metadata": {
        "colab": {
          "base_uri": "https://localhost:8080/"
        },
        "id": "HXRDugcZ9s4L",
        "outputId": "63508f0a-f408-492a-916e-654269c67ec0"
      },
      "execution_count": 541,
      "outputs": [
        {
          "output_type": "execute_result",
          "data": {
            "text/plain": [
              "SVC(probability=True)"
            ]
          },
          "metadata": {},
          "execution_count": 541
        }
      ]
    },
    {
      "cell_type": "code",
      "source": [
        "# predicted classes\n",
        "train_pred_svc = svc_optimal_model.predict(X_train)\n",
        "test_pred_svc = svc_optimal_model.predict(X_test)"
      ],
      "metadata": {
        "id": "3ZYOAbe1-pAm"
      },
      "execution_count": 542,
      "outputs": []
    },
    {
      "cell_type": "code",
      "source": [
        "# Predicted Probability\n",
        "test_proba_svc = svc_optimal_model.predict_proba(X_test)[:,1]"
      ],
      "metadata": {
        "id": "9-D0ulTc-pAn"
      },
      "execution_count": 543,
      "outputs": []
    },
    {
      "cell_type": "code",
      "source": [
        "# train set accuracy score\n",
        "accuracy_score(y_train,train_pred_svc)"
      ],
      "metadata": {
        "colab": {
          "base_uri": "https://localhost:8080/"
        },
        "outputId": "636a3cc6-f291-45fa-d57b-ecfbecdcbba2",
        "id": "F3vxE82Y-pAo"
      },
      "execution_count": 544,
      "outputs": [
        {
          "output_type": "execute_result",
          "data": {
            "text/plain": [
              "0.6863178580201424"
            ]
          },
          "metadata": {},
          "execution_count": 544
        }
      ]
    },
    {
      "cell_type": "markdown",
      "source": [
        "### **Model Evaluation**"
      ],
      "metadata": {
        "id": "X9uxKbdK-pAo"
      }
    },
    {
      "cell_type": "code",
      "source": [
        "# Evaluation metrics\n",
        "evaluation_metrics(y_test, test_pred_svc, \"SVC\")"
      ],
      "metadata": {
        "colab": {
          "base_uri": "https://localhost:8080/"
        },
        "outputId": "7f4caa7a-370e-443b-d7af-ca30dfe24b6f",
        "id": "qo690Xkg-pAp"
      },
      "execution_count": 545,
      "outputs": [
        {
          "output_type": "stream",
          "name": "stdout",
          "text": [
            "Evaluation Metrics on test data:\n",
            "accuracy score: 0.6573323507737656\n",
            "Precision: 0.663109756097561\n",
            "Recall: 0.6406480117820325\n",
            "f1 score: 0.651685393258427\n"
          ]
        }
      ]
    },
    {
      "cell_type": "markdown",
      "source": [
        "**Confusion Matrix**"
      ],
      "metadata": {
        "id": "IkGEUGGe-pAq"
      }
    },
    {
      "cell_type": "code",
      "source": [
        "# visualize the confusion matrix\n",
        "plot_confusion_matrix(svc_optimal_model, X_test, y_test)\n",
        "plt.show()"
      ],
      "metadata": {
        "colab": {
          "base_uri": "https://localhost:8080/",
          "height": 279
        },
        "outputId": "601e48e7-e9ce-4d73-f6ab-c0dbf43a8544",
        "id": "L4qEUmKg-pAq"
      },
      "execution_count": 546,
      "outputs": [
        {
          "output_type": "display_data",
          "data": {
            "image/png": "[encoded data removed]",
            "text/plain": [
              "<Figure size 432x288 with 2 Axes>"
            ]
          },
          "metadata": {
            "needs_background": "light"
          }
        }
      ]
    },
    {
      "cell_type": "markdown",
      "source": [
        "**AUC-ROC Curve**"
      ],
      "metadata": {
        "id": "GyojT8E_-pAr"
      }
    },
    {
      "cell_type": "code",
      "source": [
        "plot_roc_curve(y_test, test_proba_svc)"
      ],
      "metadata": {
        "colab": {
          "base_uri": "https://localhost:8080/",
          "height": 312
        },
        "outputId": "b41b2687-9d10-499c-ead3-e576253b498f",
        "id": "lH9sgKfc-pAr"
      },
      "execution_count": 547,
      "outputs": [
        {
          "output_type": "stream",
          "name": "stdout",
          "text": [
            "roc-auc score: 0.7224303917351997\n"
          ]
        },
        {
          "output_type": "display_data",
          "data": {
            "image/png": "[encoded data removed]",
            "text/plain": [
              "<Figure size 432x288 with 1 Axes>"
            ]
          },
          "metadata": {
            "needs_background": "light"
          }
        }
      ]
    },
    {
      "cell_type": "markdown",
      "source": [
        "## **Decision Tree Classifier**"
      ],
      "metadata": {
        "id": "CcN0Olt9ExOn"
      }
    },
    {
      "cell_type": "code",
      "source": [
        "# hyperparameter grid\n",
        "param_dict_dt = {'max_depth': [10, 15, 20, 25],\n",
        "                 'min_samples_leaf': [30, 40, 50],\n",
        "                 'criterion': [\"gini\", \"entropy\"]\n",
        "                 }"
      ],
      "metadata": {
        "id": "6FeqIDebKNtb"
      },
      "execution_count": 548,
      "outputs": []
    },
    {
      "cell_type": "code",
      "source": [
        "# creating model instance\n",
        "dt_clf= DecisionTreeClassifier(random_state= 42)\n",
        "\n",
        "# fitting model\n",
        "dt_grid = GridSearchCV(dt_clf, param_dict_dt, scoring = 'accuracy', verbose =3, cv =5)\n",
        "dt_grid.fit(X_train, y_train)"
      ],
      "metadata": {
        "colab": {
          "base_uri": "https://localhost:8080/"
        },
        "id": "dmy53csBKQuU",
        "outputId": "7a7217f6-55f9-49ef-c5a9-1bca422e7e84"
      },
      "execution_count": 558,
      "outputs": [
        {
          "output_type": "stream",
          "name": "stdout",
          "text": [
            "Fitting 5 folds for each of 24 candidates, totalling 120 fits\n",
            "[CV 1/5] END criterion=gini, max_depth=10, min_samples_leaf=30;, score=0.692 total time=   0.0s\n",
            "[CV 2/5] END criterion=gini, max_depth=10, min_samples_leaf=30;, score=0.732 total time=   0.0s\n",
            "[CV 3/5] END criterion=gini, max_depth=10, min_samples_leaf=30;, score=0.711 total time=   0.0s\n",
            "[CV 4/5] END criterion=gini, max_depth=10, min_samples_leaf=30;, score=0.716 total time=   0.0s\n",
            "[CV 5/5] END criterion=gini, max_depth=10, min_samples_leaf=30;, score=0.706 total time=   0.0s\n",
            "[CV 1/5] END criterion=gini, max_depth=10, min_samples_leaf=40;, score=0.691 total time=   0.0s\n",
            "[CV 2/5] END criterion=gini, max_depth=10, min_samples_leaf=40;, score=0.708 total time=   0.0s\n",
            "[CV 3/5] END criterion=gini, max_depth=10, min_samples_leaf=40;, score=0.683 total time=   0.0s\n",
            "[CV 4/5] END criterion=gini, max_depth=10, min_samples_leaf=40;, score=0.720 total time=   0.0s\n",
            "[CV 5/5] END criterion=gini, max_depth=10, min_samples_leaf=40;, score=0.706 total time=   0.0s\n",
            "[CV 1/5] END criterion=gini, max_depth=10, min_samples_leaf=50;, score=0.690 total time=   0.0s\n",
            "[CV 2/5] END criterion=gini, max_depth=10, min_samples_leaf=50;, score=0.715 total time=   0.0s\n",
            "[CV 3/5] END criterion=gini, max_depth=10, min_samples_leaf=50;, score=0.686 total time=   0.0s\n",
            "[CV 4/5] END criterion=gini, max_depth=10, min_samples_leaf=50;, score=0.710 total time=   0.0s\n",
            "[CV 5/5] END criterion=gini, max_depth=10, min_samples_leaf=50;, score=0.692 total time=   0.0s\n",
            "[CV 1/5] END criterion=gini, max_depth=15, min_samples_leaf=30;, score=0.692 total time=   0.0s\n",
            "[CV 2/5] END criterion=gini, max_depth=15, min_samples_leaf=30;, score=0.732 total time=   0.0s\n",
            "[CV 3/5] END criterion=gini, max_depth=15, min_samples_leaf=30;, score=0.710 total time=   0.0s\n",
            "[CV 4/5] END criterion=gini, max_depth=15, min_samples_leaf=30;, score=0.719 total time=   0.0s\n",
            "[CV 5/5] END criterion=gini, max_depth=15, min_samples_leaf=30;, score=0.703 total time=   0.0s\n",
            "[CV 1/5] END criterion=gini, max_depth=15, min_samples_leaf=40;, score=0.691 total time=   0.0s\n",
            "[CV 2/5] END criterion=gini, max_depth=15, min_samples_leaf=40;, score=0.709 total time=   0.0s\n",
            "[CV 3/5] END criterion=gini, max_depth=15, min_samples_leaf=40;, score=0.684 total time=   0.0s\n",
            "[CV 4/5] END criterion=gini, max_depth=15, min_samples_leaf=40;, score=0.720 total time=   0.0s\n",
            "[CV 5/5] END criterion=gini, max_depth=15, min_samples_leaf=40;, score=0.706 total time=   0.0s\n",
            "[CV 1/5] END criterion=gini, max_depth=15, min_samples_leaf=50;, score=0.690 total time=   0.0s\n",
            "[CV 2/5] END criterion=gini, max_depth=15, min_samples_leaf=50;, score=0.715 total time=   0.0s\n",
            "[CV 3/5] END criterion=gini, max_depth=15, min_samples_leaf=50;, score=0.686 total time=   0.0s\n",
            "[CV 4/5] END criterion=gini, max_depth=15, min_samples_leaf=50;, score=0.710 total time=   0.0s\n",
            "[CV 5/5] END criterion=gini, max_depth=15, min_samples_leaf=50;, score=0.692 total time=   0.0s\n",
            "[CV 1/5] END criterion=gini, max_depth=20, min_samples_leaf=30;, score=0.692 total time=   0.0s\n",
            "[CV 2/5] END criterion=gini, max_depth=20, min_samples_leaf=30;, score=0.732 total time=   0.0s\n",
            "[CV 3/5] END criterion=gini, max_depth=20, min_samples_leaf=30;, score=0.710 total time=   0.0s\n",
            "[CV 4/5] END criterion=gini, max_depth=20, min_samples_leaf=30;, score=0.719 total time=   0.0s\n",
            "[CV 5/5] END criterion=gini, max_depth=20, min_samples_leaf=30;, score=0.703 total time=   0.0s\n",
            "[CV 1/5] END criterion=gini, max_depth=20, min_samples_leaf=40;, score=0.691 total time=   0.0s\n",
            "[CV 2/5] END criterion=gini, max_depth=20, min_samples_leaf=40;, score=0.709 total time=   0.0s\n",
            "[CV 3/5] END criterion=gini, max_depth=20, min_samples_leaf=40;, score=0.684 total time=   0.0s\n",
            "[CV 4/5] END criterion=gini, max_depth=20, min_samples_leaf=40;, score=0.720 total time=   0.0s\n",
            "[CV 5/5] END criterion=gini, max_depth=20, min_samples_leaf=40;, score=0.706 total time=   0.0s\n",
            "[CV 1/5] END criterion=gini, max_depth=20, min_samples_leaf=50;, score=0.690 total time=   0.0s\n",
            "[CV 2/5] END criterion=gini, max_depth=20, min_samples_leaf=50;, score=0.715 total time=   0.0s\n",
            "[CV 3/5] END criterion=gini, max_depth=20, min_samples_leaf=50;, score=0.686 total time=   0.0s\n",
            "[CV 4/5] END criterion=gini, max_depth=20, min_samples_leaf=50;, score=0.710 total time=   0.0s\n",
            "[CV 5/5] END criterion=gini, max_depth=20, min_samples_leaf=50;, score=0.692 total time=   0.0s\n",
            "[CV 1/5] END criterion=gini, max_depth=25, min_samples_leaf=30;, score=0.692 total time=   0.0s\n",
            "[CV 2/5] END criterion=gini, max_depth=25, min_samples_leaf=30;, score=0.732 total time=   0.0s\n",
            "[CV 3/5] END criterion=gini, max_depth=25, min_samples_leaf=30;, score=0.710 total time=   0.0s\n",
            "[CV 4/5] END criterion=gini, max_depth=25, min_samples_leaf=30;, score=0.719 total time=   0.0s\n",
            "[CV 5/5] END criterion=gini, max_depth=25, min_samples_leaf=30;, score=0.703 total time=   0.0s\n",
            "[CV 1/5] END criterion=gini, max_depth=25, min_samples_leaf=40;, score=0.691 total time=   0.0s\n",
            "[CV 2/5] END criterion=gini, max_depth=25, min_samples_leaf=40;, score=0.709 total time=   0.0s\n",
            "[CV 3/5] END criterion=gini, max_depth=25, min_samples_leaf=40;, score=0.684 total time=   0.0s\n",
            "[CV 4/5] END criterion=gini, max_depth=25, min_samples_leaf=40;, score=0.720 total time=   0.0s\n",
            "[CV 5/5] END criterion=gini, max_depth=25, min_samples_leaf=40;, score=0.706 total time=   0.0s\n",
            "[CV 1/5] END criterion=gini, max_depth=25, min_samples_leaf=50;, score=0.690 total time=   0.0s\n",
            "[CV 2/5] END criterion=gini, max_depth=25, min_samples_leaf=50;, score=0.715 total time=   0.0s\n",
            "[CV 3/5] END criterion=gini, max_depth=25, min_samples_leaf=50;, score=0.686 total time=   0.0s\n",
            "[CV 4/5] END criterion=gini, max_depth=25, min_samples_leaf=50;, score=0.710 total time=   0.0s\n",
            "[CV 5/5] END criterion=gini, max_depth=25, min_samples_leaf=50;, score=0.692 total time=   0.0s\n",
            "[CV 1/5] END criterion=entropy, max_depth=10, min_samples_leaf=30;, score=0.685 total time=   0.0s\n",
            "[CV 2/5] END criterion=entropy, max_depth=10, min_samples_leaf=30;, score=0.721 total time=   0.0s\n",
            "[CV 3/5] END criterion=entropy, max_depth=10, min_samples_leaf=30;, score=0.709 total time=   0.0s\n",
            "[CV 4/5] END criterion=entropy, max_depth=10, min_samples_leaf=30;, score=0.724 total time=   0.0s\n",
            "[CV 5/5] END criterion=entropy, max_depth=10, min_samples_leaf=30;, score=0.699 total time=   0.0s\n",
            "[CV 1/5] END criterion=entropy, max_depth=10, min_samples_leaf=40;, score=0.676 total time=   0.0s\n",
            "[CV 2/5] END criterion=entropy, max_depth=10, min_samples_leaf=40;, score=0.717 total time=   0.0s\n",
            "[CV 3/5] END criterion=entropy, max_depth=10, min_samples_leaf=40;, score=0.700 total time=   0.0s\n",
            "[CV 4/5] END criterion=entropy, max_depth=10, min_samples_leaf=40;, score=0.711 total time=   0.0s\n",
            "[CV 5/5] END criterion=entropy, max_depth=10, min_samples_leaf=40;, score=0.692 total time=   0.0s\n",
            "[CV 1/5] END criterion=entropy, max_depth=10, min_samples_leaf=50;, score=0.674 total time=   0.0s\n",
            "[CV 2/5] END criterion=entropy, max_depth=10, min_samples_leaf=50;, score=0.715 total time=   0.0s\n",
            "[CV 3/5] END criterion=entropy, max_depth=10, min_samples_leaf=50;, score=0.682 total time=   0.0s\n",
            "[CV 4/5] END criterion=entropy, max_depth=10, min_samples_leaf=50;, score=0.710 total time=   0.0s\n",
            "[CV 5/5] END criterion=entropy, max_depth=10, min_samples_leaf=50;, score=0.689 total time=   0.0s\n",
            "[CV 1/5] END criterion=entropy, max_depth=15, min_samples_leaf=30;, score=0.681 total time=   0.0s\n",
            "[CV 2/5] END criterion=entropy, max_depth=15, min_samples_leaf=30;, score=0.735 total time=   0.0s\n",
            "[CV 3/5] END criterion=entropy, max_depth=15, min_samples_leaf=30;, score=0.708 total time=   0.0s\n",
            "[CV 4/5] END criterion=entropy, max_depth=15, min_samples_leaf=30;, score=0.716 total time=   0.0s\n",
            "[CV 5/5] END criterion=entropy, max_depth=15, min_samples_leaf=30;, score=0.699 total time=   0.0s\n",
            "[CV 1/5] END criterion=entropy, max_depth=15, min_samples_leaf=40;, score=0.672 total time=   0.0s\n",
            "[CV 2/5] END criterion=entropy, max_depth=15, min_samples_leaf=40;, score=0.719 total time=   0.0s\n",
            "[CV 3/5] END criterion=entropy, max_depth=15, min_samples_leaf=40;, score=0.699 total time=   0.0s\n",
            "[CV 4/5] END criterion=entropy, max_depth=15, min_samples_leaf=40;, score=0.711 total time=   0.0s\n",
            "[CV 5/5] END criterion=entropy, max_depth=15, min_samples_leaf=40;, score=0.692 total time=   0.0s\n",
            "[CV 1/5] END criterion=entropy, max_depth=15, min_samples_leaf=50;, score=0.674 total time=   0.0s\n",
            "[CV 2/5] END criterion=entropy, max_depth=15, min_samples_leaf=50;, score=0.715 total time=   0.0s\n",
            "[CV 3/5] END criterion=entropy, max_depth=15, min_samples_leaf=50;, score=0.682 total time=   0.0s\n",
            "[CV 4/5] END criterion=entropy, max_depth=15, min_samples_leaf=50;, score=0.710 total time=   0.0s\n",
            "[CV 5/5] END criterion=entropy, max_depth=15, min_samples_leaf=50;, score=0.689 total time=   0.0s\n",
            "[CV 1/5] END criterion=entropy, max_depth=20, min_samples_leaf=30;, score=0.681 total time=   0.0s\n",
            "[CV 2/5] END criterion=entropy, max_depth=20, min_samples_leaf=30;, score=0.735 total time=   0.0s\n",
            "[CV 3/5] END criterion=entropy, max_depth=20, min_samples_leaf=30;, score=0.708 total time=   0.0s\n",
            "[CV 4/5] END criterion=entropy, max_depth=20, min_samples_leaf=30;, score=0.716 total time=   0.0s\n",
            "[CV 5/5] END criterion=entropy, max_depth=20, min_samples_leaf=30;, score=0.699 total time=   0.0s\n",
            "[CV 1/5] END criterion=entropy, max_depth=20, min_samples_leaf=40;, score=0.672 total time=   0.0s\n",
            "[CV 2/5] END criterion=entropy, max_depth=20, min_samples_leaf=40;, score=0.719 total time=   0.0s\n",
            "[CV 3/5] END criterion=entropy, max_depth=20, min_samples_leaf=40;, score=0.699 total time=   0.0s\n",
            "[CV 4/5] END criterion=entropy, max_depth=20, min_samples_leaf=40;, score=0.711 total time=   0.0s\n",
            "[CV 5/5] END criterion=entropy, max_depth=20, min_samples_leaf=40;, score=0.692 total time=   0.0s\n",
            "[CV 1/5] END criterion=entropy, max_depth=20, min_samples_leaf=50;, score=0.674 total time=   0.0s\n",
            "[CV 2/5] END criterion=entropy, max_depth=20, min_samples_leaf=50;, score=0.715 total time=   0.0s\n",
            "[CV 3/5] END criterion=entropy, max_depth=20, min_samples_leaf=50;, score=0.682 total time=   0.0s\n",
            "[CV 4/5] END criterion=entropy, max_depth=20, min_samples_leaf=50;, score=0.710 total time=   0.0s\n",
            "[CV 5/5] END criterion=entropy, max_depth=20, min_samples_leaf=50;, score=0.689 total time=   0.0s\n",
            "[CV 1/5] END criterion=entropy, max_depth=25, min_samples_leaf=30;, score=0.681 total time=   0.0s\n",
            "[CV 2/5] END criterion=entropy, max_depth=25, min_samples_leaf=30;, score=0.735 total time=   0.0s\n",
            "[CV 3/5] END criterion=entropy, max_depth=25, min_samples_leaf=30;, score=0.708 total time=   0.0s\n",
            "[CV 4/5] END criterion=entropy, max_depth=25, min_samples_leaf=30;, score=0.716 total time=   0.0s\n",
            "[CV 5/5] END criterion=entropy, max_depth=25, min_samples_leaf=30;, score=0.699 total time=   0.0s\n",
            "[CV 1/5] END criterion=entropy, max_depth=25, min_samples_leaf=40;, score=0.672 total time=   0.0s\n",
            "[CV 2/5] END criterion=entropy, max_depth=25, min_samples_leaf=40;, score=0.719 total time=   0.0s\n",
            "[CV 3/5] END criterion=entropy, max_depth=25, min_samples_leaf=40;, score=0.699 total time=   0.0s\n",
            "[CV 4/5] END criterion=entropy, max_depth=25, min_samples_leaf=40;, score=0.711 total time=   0.0s\n",
            "[CV 5/5] END criterion=entropy, max_depth=25, min_samples_leaf=40;, score=0.692 total time=   0.0s\n",
            "[CV 1/5] END criterion=entropy, max_depth=25, min_samples_leaf=50;, score=0.674 total time=   0.0s\n",
            "[CV 2/5] END criterion=entropy, max_depth=25, min_samples_leaf=50;, score=0.715 total time=   0.0s\n",
            "[CV 3/5] END criterion=entropy, max_depth=25, min_samples_leaf=50;, score=0.682 total time=   0.0s\n",
            "[CV 4/5] END criterion=entropy, max_depth=25, min_samples_leaf=50;, score=0.710 total time=   0.0s\n",
            "[CV 5/5] END criterion=entropy, max_depth=25, min_samples_leaf=50;, score=0.689 total time=   0.0s\n"
          ]
        },
        {
          "output_type": "execute_result",
          "data": {
            "text/plain": [
              "GridSearchCV(cv=5, estimator=DecisionTreeClassifier(random_state=42),\n",
              "             param_grid={'criterion': ['gini', 'entropy'],\n",
              "                         'max_depth': [10, 15, 20, 25],\n",
              "                         'min_samples_leaf': [30, 40, 50]},\n",
              "             scoring='accuracy', verbose=3)"
            ]
          },
          "metadata": {},
          "execution_count": 558
        }
      ]
    },
    {
      "cell_type": "code",
      "source": [
        "# best_parameters\n",
        "dt_grid.best_params_"
      ],
      "metadata": {
        "colab": {
          "base_uri": "https://localhost:8080/"
        },
        "id": "0xVCWvbnKrr4",
        "outputId": "6799f9a2-b722-4c5e-87a6-b649569f4e1b"
      },
      "execution_count": 559,
      "outputs": [
        {
          "output_type": "execute_result",
          "data": {
            "text/plain": [
              "{'criterion': 'gini', 'max_depth': 10, 'min_samples_leaf': 30}"
            ]
          },
          "metadata": {},
          "execution_count": 559
        }
      ]
    },
    {
      "cell_type": "code",
      "source": [
        "# optimal model\n",
        "dt_optimal= dt_grid.best_estimator_"
      ],
      "metadata": {
        "id": "a7E7qZHuKeNk"
      },
      "execution_count": 560,
      "outputs": []
    },
    {
      "cell_type": "code",
      "source": [
        "# predicted classes\n",
        "train_pred_dt = dt_optimal.predict(X_train)\n",
        "test_pred_dt = dt_optimal.predict(X_test)"
      ],
      "metadata": {
        "id": "iAD3B7ZcKjOb"
      },
      "execution_count": 561,
      "outputs": []
    },
    {
      "cell_type": "code",
      "source": [
        "# Predicted Probability\n",
        "test_proba_dt = dt_optimal.predict_proba(X_test)[:,1]"
      ],
      "metadata": {
        "id": "Wh06QDaDKjOd"
      },
      "execution_count": 562,
      "outputs": []
    },
    {
      "cell_type": "code",
      "source": [
        "# train set accuracy score\n",
        "accuracy_score(y_train,train_pred_dt)"
      ],
      "metadata": {
        "colab": {
          "base_uri": "https://localhost:8080/"
        },
        "outputId": "f9a9df0c-c3c2-4680-eb1c-b291aabdfeba",
        "id": "qSvMMUGWKjOd"
      },
      "execution_count": 563,
      "outputs": [
        {
          "output_type": "execute_result",
          "data": {
            "text/plain": [
              "0.7708179808400885"
            ]
          },
          "metadata": {},
          "execution_count": 563
        }
      ]
    },
    {
      "cell_type": "markdown",
      "source": [
        "### **Model Evaluation**"
      ],
      "metadata": {
        "id": "w6UtppyzKjOe"
      }
    },
    {
      "cell_type": "code",
      "source": [
        "# Evaluation metrics on test set\n",
        "evaluation_metrics(y_test, test_pred_dt, \"DecisionTree Classifier\")"
      ],
      "metadata": {
        "colab": {
          "base_uri": "https://localhost:8080/"
        },
        "outputId": "f1dd2f25-39be-40a2-e02e-d198aa867a64",
        "id": "mDK8Hj2_KjOf"
      },
      "execution_count": 564,
      "outputs": [
        {
          "output_type": "stream",
          "name": "stdout",
          "text": [
            "Evaluation Metrics on test data:\n",
            "accuracy score: 0.7022844509948416\n",
            "Precision: 0.6870748299319728\n",
            "Recall: 0.7437407952871871\n",
            "f1 score: 0.7142857142857142\n"
          ]
        }
      ]
    },
    {
      "cell_type": "markdown",
      "source": [
        "**Confusion Matrix**"
      ],
      "metadata": {
        "id": "pBDCFCXGLwuO"
      }
    },
    {
      "cell_type": "code",
      "source": [
        "# visualize the confusion matrix\n",
        "plot_confusion_matrix(dt_optimal, X_test, y_test)\n",
        "plt.show()"
      ],
      "metadata": {
        "colab": {
          "base_uri": "https://localhost:8080/",
          "height": 280
        },
        "outputId": "62aa39a2-2b6a-4e1d-fef9-27d826c6111c",
        "id": "Nqf_r5hZLwuP"
      },
      "execution_count": 556,
      "outputs": [
        {
          "output_type": "display_data",
          "data": {
            "image/png": "[encoded data removed]",
            "text/plain": [
              "<Figure size 432x288 with 2 Axes>"
            ]
          },
          "metadata": {
            "needs_background": "light"
          }
        }
      ]
    },
    {
      "cell_type": "markdown",
      "source": [
        "**AUC-ROC Curve**"
      ],
      "metadata": {
        "id": "Gs3fzasLLwuP"
      }
    },
    {
      "cell_type": "code",
      "source": [
        "plot_roc_curve(y_test, test_proba_dt)"
      ],
      "metadata": {
        "colab": {
          "base_uri": "https://localhost:8080/",
          "height": 312
        },
        "outputId": "39031c83-b882-46fe-a547-1b39c74a126b",
        "id": "aNjRA7D9LwuQ"
      },
      "execution_count": 557,
      "outputs": [
        {
          "output_type": "stream",
          "name": "stdout",
          "text": [
            "roc-auc score: 0.7852722422789024\n"
          ]
        },
        {
          "output_type": "display_data",
          "data": {
            "image/png": "[encoded data removed]",
            "text/plain": [
              "<Figure size 432x288 with 1 Axes>"
            ]
          },
          "metadata": {
            "needs_background": "light"
          }
        }
      ]
    },
    {
      "cell_type": "code",
      "source": [
        ""
      ],
      "metadata": {
        "id": "WKSwW-FMO28I"
      },
      "execution_count": 557,
      "outputs": []
    }
  ]
}